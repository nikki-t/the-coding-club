{
 "cells": [
  {
   "cell_type": "markdown",
   "metadata": {},
   "source": [
    "# Test weighted averaging using different methods"
   ]
  },
  {
   "cell_type": "markdown",
   "metadata": {},
   "source": [
    "### Load required libraries and perform averaging test"
   ]
  },
  {
   "cell_type": "code",
   "execution_count": 1,
   "metadata": {},
   "outputs": [],
   "source": [
    "\n",
    "import numpy as np\n",
    "import xarray as xr"
   ]
  },
  {
   "cell_type": "code",
   "execution_count": 3,
   "metadata": {},
   "outputs": [],
   "source": [
    "# create a test arrays in numpy and xarray DataArray\n",
    "data = np.array([ [1,2,1], [12,np.NaN,11], [10,np.NaN,np.NaN], [2,1,2] ])\n",
    "data_xr = xr.DataArray(data)\n",
    "\n",
    "# create the weights; one for each row\n",
    "weights = np.array([ .1, .7, .9, .2 ])\n",
    "weights_xr = xr.DataArray(weights)\n"
   ]
  },
  {
   "cell_type": "code",
   "execution_count": 4,
   "metadata": {},
   "outputs": [
    {
     "name": "stdout",
     "output_type": "stream",
     "text": [
      "weighted mean() of xarray data:\n",
      " <xarray.DataArray ()>\n",
      "array(8.28125)\n"
     ]
    }
   ],
   "source": [
    "# test 1:  mean() of weighted data for the xarray DataArray\n",
    "\n",
    "# apply weights to data\n",
    "data_weighted = data_xr.weighted(weights_xr)\n",
    "\n",
    "# calculate the mean on the weighted data\n",
    "mean = data_weighted.mean()\n",
    "print(\"weighted mean() of xarray data:\\n\", mean)"
   ]
  },
  {
   "cell_type": "code",
   "execution_count": 5,
   "metadata": {},
   "outputs": [
    {
     "name": "stdout",
     "output_type": "stream",
     "text": [
      "weighted mean() of numpy array data using a mask:\n",
      " 6.31812865497076\n"
     ]
    }
   ],
   "source": [
    "# test 2:  mean() of weighted data using numpy array with a NaN mask\n",
    "\n",
    "# NOT understanding this output. More investigation needed. Ingore for now.\n",
    "\n",
    "masked_data = np.ma.masked_array(data, np.isnan(data))\n",
    "#print(masked_data)\n",
    "\n",
    "# calculate your weighted average here \n",
    "average = np.ma.average(masked_data, axis=0, weights=weights)\n",
    "\n",
    "# this gives you the result\n",
    "result = average.filled(np.nan)\n",
    "\n",
    "mean = result.mean()\n",
    "print(\"weighted mean() of numpy array data using a mask:\\n\", mean)\n"
   ]
  },
  {
   "cell_type": "code",
   "execution_count": 6,
   "metadata": {},
   "outputs": [
    {
     "name": "stdout",
     "output_type": "stream",
     "text": [
      "weighted mean() of hand calculation of data:\n",
      " 8.281249999999998\n"
     ]
    }
   ],
   "source": [
    "# test 3: mean of weighted numpy array via \"hand calculation\"\n",
    "\n",
    "# original array and weights:\n",
    "#         data = np.array([[1,2,1], [12,np.NaN,11], [10,np.NaN,np.NaN], [2,1,2]])\n",
    "#         weights = [ .1, .7, .9, .2 ]\n",
    "\n",
    "\n",
    "mean = ( (1*.1) + (2*.1) + (1*.1) + (12*.7) + (11*.7) + (10*.9) + (2*.2) + (1*.2) + (2*.2) ) / ( (3*.1) + (2*.7) + (1*.9) + (3*.2) )\n",
    "print(\"weighted mean() of hand calculation of data:\\n\", mean)\n"
   ]
  },
  {
   "cell_type": "code",
   "execution_count": null,
   "metadata": {},
   "outputs": [],
   "source": []
  }
 ],
 "metadata": {
  "kernelspec": {
   "display_name": "Python 3 (ipykernel)",
   "language": "python",
   "name": "python3"
  },
  "language_info": {
   "codemirror_mode": {
    "name": "ipython",
    "version": 3
   },
   "file_extension": ".py",
   "mimetype": "text/x-python",
   "name": "python",
   "nbconvert_exporter": "python",
   "pygments_lexer": "ipython3",
   "version": "3.9.13"
  }
 },
 "nbformat": 4,
 "nbformat_minor": 2
}
