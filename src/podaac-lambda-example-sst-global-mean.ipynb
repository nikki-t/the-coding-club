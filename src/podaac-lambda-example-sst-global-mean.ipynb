{
 "cells": [
  {
   "attachments": {},
   "cell_type": "markdown",
   "metadata": {},
   "source": [
    "# Cloud Computing for Science with AWS Lambda \n",
    "\n",
    "This tutorial demonstrates how to plot a timeseries of global mean sea surface temperature values using AWS Lambda to perform the global mean computation. We use the MUR 25km dataset. \n",
    "\n",
    "This is one example of how to take advantage of AWS Cloud Computing capabilities. Note that using AWS Compute services will incur costs that will be charged to your AWS account. Where possible we indicate estimates of the compute cost associated with this tutorial, but if you apply it to a larger time period or different dataset, the compute costs may be larger than indicated here. "
   ]
  },
  {
   "attachments": {},
   "cell_type": "markdown",
   "metadata": {},
   "source": [
    "## Step 0: Set up AWS infrastructure\n",
    "\n",
    "This tutorial takes advantage of numerous AWS Services including Lambda, Parameter Store, Elastic Compute Cloud (EC2), Elastic Container Registry (ECR), and Simple Storage Service (S3). \n",
    "\n",
    "#### Deploy Lambda function using Terraform\n",
    "\n",
    "AWS Lambda is compute service that runs code in response to events. The Lambda code is packaged in a Docker image, and we use Terraform to handle setting up the AWS Lambda function.\n",
    "\n",
    "#### Set up Earthdata credentials in AWS Parameter Store\n",
    "\n",
    "** Do we need this? Maybe only for testing?\n",
    "To avoid hard-coding Earthdata credentials or a .netrc file in the Docker image, we use the AWS parameter store to set the Earthdata credentials. This means that the same Lambda code can run without modification in any user environment and will assume the correct EDL that is set by each user in your AWS Parameter Store. \n",
    "\n",
    "#### Set up S3 bucket to hold granules and results\n",
    "\n",
    "\n",
    "\n",
    "#### Test Lambda function\n",
    "\n",
    "#### Connect to EC2 instance to run this notebook\n",
    "\n",
    "This notebook cannot be run on a local computer, as it heavily depends on direct in-cloud access. To run this notebook in AWS, connect to an EC2 instance running in the us-west-2 region, following the instructions < here >. Once you have connected to the EC2 instance you can clone this repository into that environment, install the required packages, and run this notebook. \n",
    "\n"
   ]
  },
  {
   "attachments": {},
   "cell_type": "markdown",
   "metadata": {},
   "source": [
    "## Step 1: Log in to Earthdata"
   ]
  },
  {
   "attachments": {},
   "cell_type": "markdown",
   "metadata": {},
   "source": [
    "## Step 2: Query CMR for granules, and copy to local S3 bucket"
   ]
  },
  {
   "cell_type": "code",
   "execution_count": 3,
   "metadata": {},
   "outputs": [],
   "source": [
    "from CMRQuery import CMRQuery\n",
    "import matplotlib.pyplot as plt"
   ]
  },
  {
   "cell_type": "markdown",
   "metadata": {},
   "source": [
    "### Initialize the query object, login to Earthdata and set the authentication token"
   ]
  },
  {
   "cell_type": "code",
   "execution_count": 4,
   "metadata": {},
   "outputs": [
    {
     "ename": "KeyError",
     "evalue": "'token'",
     "output_type": "error",
     "traceback": [
      "\u001b[0;31m---------------------------------------------------------------------------\u001b[0m",
      "\u001b[0;31mKeyError\u001b[0m                                  Traceback (most recent call last)",
      "Cell \u001b[0;32mIn[4], line 3\u001b[0m\n\u001b[1;32m      1\u001b[0m cmr_query \u001b[39m=\u001b[39m CMRQuery()\n\u001b[0;32m----> 3\u001b[0m cmr_query\u001b[39m.\u001b[39;49mlogin_and_set_token()\n",
      "File \u001b[0;32m~/projects/podaac/repos/the-coding-club/src/CMRQuery.py:225\u001b[0m, in \u001b[0;36mCMRQuery.login_and_set_token\u001b[0;34m(self)\u001b[0m\n\u001b[1;32m    223\u001b[0m     hostname \u001b[39m=\u001b[39m gethostname()\n\u001b[1;32m    224\u001b[0m     ip_addr \u001b[39m=\u001b[39m gethostbyname(hostname)\n\u001b[0;32m--> 225\u001b[0m     \u001b[39mself\u001b[39;49m\u001b[39m.\u001b[39;49mget_token(client_id, ip_addr)\n\u001b[1;32m    227\u001b[0m \u001b[39mexcept\u001b[39;00m \u001b[39mException\u001b[39;00m:\n\u001b[1;32m    228\u001b[0m     \u001b[39mraise\u001b[39;00m\n",
      "File \u001b[0;32m~/projects/podaac/repos/the-coding-club/src/CMRQuery.py:75\u001b[0m, in \u001b[0;36mCMRQuery.get_token\u001b[0;34m(self, client_id, ip_address)\u001b[0m\n\u001b[1;32m     68\u001b[0m token_xml \u001b[39m=\u001b[39m (\u001b[39mf\u001b[39m\u001b[39m\"\u001b[39m\u001b[39m<token>\u001b[39m\u001b[39m\"\u001b[39m\n\u001b[1;32m     69\u001b[0m                 \u001b[39mf\u001b[39m\u001b[39m\"\u001b[39m\u001b[39m<username>\u001b[39m\u001b[39m{\u001b[39;00musername\u001b[39m}\u001b[39;00m\u001b[39m</username>\u001b[39m\u001b[39m\"\u001b[39m\n\u001b[1;32m     70\u001b[0m                 \u001b[39mf\u001b[39m\u001b[39m\"\u001b[39m\u001b[39m<password>\u001b[39m\u001b[39m{\u001b[39;00mpassword\u001b[39m}\u001b[39;00m\u001b[39m</password>\u001b[39m\u001b[39m\"\u001b[39m\n\u001b[1;32m     71\u001b[0m                 \u001b[39mf\u001b[39m\u001b[39m\"\u001b[39m\u001b[39m<client_id>\u001b[39m\u001b[39m{\u001b[39;00mclient_id\u001b[39m}\u001b[39;00m\u001b[39m</client_id>\u001b[39m\u001b[39m\"\u001b[39m\n\u001b[1;32m     72\u001b[0m                 \u001b[39mf\u001b[39m\u001b[39m\"\u001b[39m\u001b[39m<user_ip_address>\u001b[39m\u001b[39m{\u001b[39;00mip_address\u001b[39m}\u001b[39;00m\u001b[39m</user_ip_address>\u001b[39m\u001b[39m\"\u001b[39m\n\u001b[1;32m     73\u001b[0m             \u001b[39mf\u001b[39m\u001b[39m\"\u001b[39m\u001b[39m</token>\u001b[39m\u001b[39m\"\u001b[39m)\n\u001b[1;32m     74\u001b[0m headers \u001b[39m=\u001b[39m {\u001b[39m\"\u001b[39m\u001b[39mContent-Type\u001b[39m\u001b[39m\"\u001b[39m : \u001b[39m\"\u001b[39m\u001b[39mapplication/xml\u001b[39m\u001b[39m\"\u001b[39m, \u001b[39m\"\u001b[39m\u001b[39mAccept\u001b[39m\u001b[39m\"\u001b[39m : \u001b[39m\"\u001b[39m\u001b[39mapplication/json\u001b[39m\u001b[39m\"\u001b[39m}\n\u001b[0;32m---> 75\u001b[0m \u001b[39mself\u001b[39m\u001b[39m.\u001b[39m_token \u001b[39m=\u001b[39m requests\u001b[39m.\u001b[39;49mpost(url\u001b[39m=\u001b[39;49mtoken_url, data\u001b[39m=\u001b[39;49mtoken_xml, headers\u001b[39m=\u001b[39;49mheaders) \\\n\u001b[1;32m     76\u001b[0m     \u001b[39m.\u001b[39;49mjson()[\u001b[39m\"\u001b[39;49m\u001b[39mtoken\u001b[39;49m\u001b[39m\"\u001b[39;49m][\u001b[39m\"\u001b[39m\u001b[39mid\u001b[39m\u001b[39m\"\u001b[39m]\n",
      "\u001b[0;31mKeyError\u001b[0m: 'token'"
     ]
    }
   ],
   "source": [
    "cmr_query = CMRQuery()\n",
    "\n",
    "cmr_query.login_and_set_token()"
   ]
  },
  {
   "cell_type": "markdown",
   "metadata": {},
   "source": [
    "### Get the shortnames for all L4 collections containing 'sst' or 'sea surface temperature' keywords"
   ]
  },
  {
   "cell_type": "code",
   "execution_count": 3,
   "metadata": {},
   "outputs": [
    {
     "name": "stdout",
     "output_type": "stream",
     "text": [
      "CMC0.1deg-CMC-L4-GLOB-v3.0\n",
      "MUR-JPL-L4-GLOB-v4.1\n",
      "K10_SST-NAVO-L4-GLOB-v01\n",
      "MUR25-JPL-L4-GLOB-v04.2\n",
      "AVHRR_OI-NCEI-L4-GLOB-v2.0\n",
      "AVHRR_OI-NCEI-L4-GLOB-v2.1\n",
      "CMC0.2deg-CMC-L4-GLOB-v2.0\n",
      "DMI_OI-DMI-L4-GLOB-v1.0\n",
      "GAMSSA_28km-ABOM-L4-GLOB-v01\n",
      "Geo_Polar_Blended-OSPO-L4-GLOB-v1.0\n",
      "Geo_Polar_Blended_Night-OSPO-L4-GLOB-v1.0\n",
      "MITgcm_LLC4320_Pre-SWOT_JPL_L4_BassStrait_v1.0\n",
      "MW_IR_OI-REMSS-L4-GLOB-v5.0\n",
      "MW_IR_OI-REMSS-L4-GLOB-v5.1\n",
      "MW_OI-REMSS-L4-GLOB-v5.0\n",
      "MW_OI-REMSS-L4-GLOB-v5.1\n",
      "OISST_HR_NRT-GOS-L4-BLK-v2.0\n",
      "OISST_HR_NRT-GOS-L4-MED-v2.0\n",
      "OISST_UHR_NRT-GOS-L4-BLK-v2.0\n",
      "OISST_UHR_NRT-GOS-L4-MED-v2.0\n",
      "OSTIA-UKMO-L4-GLOB-v2.0\n",
      "RAMSSA_09km-ABOM-L4-AUS-v01\n",
      "REMO_OI_SST_5km-UFRJ-L4-SAMERICA-v1.0\n",
      "REYNOLDS_NCDC_L4_MONTHLY_V5\n"
     ]
    }
   ],
   "source": [
    "shortnames = cmr_query.query_collections_by_keyword(\n",
    "                            provider='POCLOUD',\n",
    "                            keywords=['sst', 'sea surface temperature'],\n",
    "                            processinglevel='4')\n",
    "\n",
    "for s in shortnames:\n",
    "    print(s)"
   ]
  },
  {
   "cell_type": "markdown",
   "metadata": {},
   "source": [
    "### get the granules belonging to each collection found above, within a time range"
   ]
  },
  {
   "cell_type": "code",
   "execution_count": 6,
   "metadata": {},
   "outputs": [
    {
     "name": "stdout",
     "output_type": "stream",
     "text": [
      "s3://podaac-ops-cumulus-protected/MUR25-JPL-L4-GLOB-v04.2/20221201090000-JPL-L4_GHRSST-SSTfnd-MUR25-GLOB-v02.0-fv04.2.nc\n",
      "s3://podaac-ops-cumulus-protected/MUR25-JPL-L4-GLOB-v04.2/20221202090000-JPL-L4_GHRSST-SSTfnd-MUR25-GLOB-v02.0-fv04.2.nc\n",
      "s3://podaac-ops-cumulus-protected/MUR25-JPL-L4-GLOB-v04.2/20221203090000-JPL-L4_GHRSST-SSTfnd-MUR25-GLOB-v02.0-fv04.2.nc\n",
      "s3://podaac-ops-cumulus-protected/MUR25-JPL-L4-GLOB-v04.2/20221204090000-JPL-L4_GHRSST-SSTfnd-MUR25-GLOB-v02.0-fv04.2.nc\n",
      "s3://podaac-ops-cumulus-protected/MUR25-JPL-L4-GLOB-v04.2/20221205090000-JPL-L4_GHRSST-SSTfnd-MUR25-GLOB-v02.0-fv04.2.nc\n",
      "s3://podaac-ops-cumulus-protected/MUR25-JPL-L4-GLOB-v04.2/20221206090000-JPL-L4_GHRSST-SSTfnd-MUR25-GLOB-v02.0-fv04.2.nc\n",
      "s3://podaac-ops-cumulus-protected/MUR25-JPL-L4-GLOB-v04.2/20221207090000-JPL-L4_GHRSST-SSTfnd-MUR25-GLOB-v02.0-fv04.2.nc\n",
      "s3://podaac-ops-cumulus-protected/MUR25-JPL-L4-GLOB-v04.2/20221208090000-JPL-L4_GHRSST-SSTfnd-MUR25-GLOB-v02.0-fv04.2.nc\n",
      "s3://podaac-ops-cumulus-protected/MUR25-JPL-L4-GLOB-v04.2/20221209090000-JPL-L4_GHRSST-SSTfnd-MUR25-GLOB-v02.0-fv04.2.nc\n",
      "s3://podaac-ops-cumulus-protected/MUR25-JPL-L4-GLOB-v04.2/20221210090000-JPL-L4_GHRSST-SSTfnd-MUR25-GLOB-v02.0-fv04.2.nc\n",
      "s3://podaac-ops-cumulus-protected/MUR25-JPL-L4-GLOB-v04.2/20221211090000-JPL-L4_GHRSST-SSTfnd-MUR25-GLOB-v02.0-fv04.2.nc\n",
      "s3://podaac-ops-cumulus-protected/MUR25-JPL-L4-GLOB-v04.2/20221212090000-JPL-L4_GHRSST-SSTfnd-MUR25-GLOB-v02.0-fv04.2.nc\n",
      "s3://podaac-ops-cumulus-protected/MUR25-JPL-L4-GLOB-v04.2/20221213090000-JPL-L4_GHRSST-SSTfnd-MUR25-GLOB-v02.0-fv04.2.nc\n",
      "s3://podaac-ops-cumulus-protected/MUR25-JPL-L4-GLOB-v04.2/20221214090000-JPL-L4_GHRSST-SSTfnd-MUR25-GLOB-v02.0-fv04.2.nc\n",
      "s3://podaac-ops-cumulus-protected/MUR25-JPL-L4-GLOB-v04.2/20221215090000-JPL-L4_GHRSST-SSTfnd-MUR25-GLOB-v02.0-fv04.2.nc\n",
      "s3://podaac-ops-cumulus-protected/MUR25-JPL-L4-GLOB-v04.2/20221216090000-JPL-L4_GHRSST-SSTfnd-MUR25-GLOB-v02.0-fv04.2.nc\n",
      "s3://podaac-ops-cumulus-protected/MUR25-JPL-L4-GLOB-v04.2/20221217090000-JPL-L4_GHRSST-SSTfnd-MUR25-GLOB-v02.0-fv04.2.nc\n",
      "s3://podaac-ops-cumulus-protected/MUR25-JPL-L4-GLOB-v04.2/20221218090000-JPL-L4_GHRSST-SSTfnd-MUR25-GLOB-v02.0-fv04.2.nc\n",
      "s3://podaac-ops-cumulus-protected/MUR25-JPL-L4-GLOB-v04.2/20221219090000-JPL-L4_GHRSST-SSTfnd-MUR25-GLOB-v02.0-fv04.2.nc\n",
      "s3://podaac-ops-cumulus-protected/MUR25-JPL-L4-GLOB-v04.2/20221220090000-JPL-L4_GHRSST-SSTfnd-MUR25-GLOB-v02.0-fv04.2.nc\n",
      "s3://podaac-ops-cumulus-protected/MUR25-JPL-L4-GLOB-v04.2/20221221090000-JPL-L4_GHRSST-SSTfnd-MUR25-GLOB-v02.0-fv04.2.nc\n",
      "s3://podaac-ops-cumulus-protected/MUR25-JPL-L4-GLOB-v04.2/20221222090000-JPL-L4_GHRSST-SSTfnd-MUR25-GLOB-v02.0-fv04.2.nc\n",
      "s3://podaac-ops-cumulus-protected/MUR25-JPL-L4-GLOB-v04.2/20221223090000-JPL-L4_GHRSST-SSTfnd-MUR25-GLOB-v02.0-fv04.2.nc\n",
      "s3://podaac-ops-cumulus-protected/MUR25-JPL-L4-GLOB-v04.2/20221224090000-JPL-L4_GHRSST-SSTfnd-MUR25-GLOB-v02.0-fv04.2.nc\n",
      "s3://podaac-ops-cumulus-protected/MUR25-JPL-L4-GLOB-v04.2/20221225090000-JPL-L4_GHRSST-SSTfnd-MUR25-GLOB-v02.0-fv04.2.nc\n",
      "s3://podaac-ops-cumulus-protected/MUR25-JPL-L4-GLOB-v04.2/20221226090000-JPL-L4_GHRSST-SSTfnd-MUR25-GLOB-v02.0-fv04.2.nc\n",
      "s3://podaac-ops-cumulus-protected/MUR25-JPL-L4-GLOB-v04.2/20221227090000-JPL-L4_GHRSST-SSTfnd-MUR25-GLOB-v02.0-fv04.2.nc\n",
      "s3://podaac-ops-cumulus-protected/MUR25-JPL-L4-GLOB-v04.2/20221228090000-JPL-L4_GHRSST-SSTfnd-MUR25-GLOB-v02.0-fv04.2.nc\n",
      "s3://podaac-ops-cumulus-protected/MUR25-JPL-L4-GLOB-v04.2/20221229090000-JPL-L4_GHRSST-SSTfnd-MUR25-GLOB-v02.0-fv04.2.nc\n",
      "s3://podaac-ops-cumulus-protected/MUR25-JPL-L4-GLOB-v04.2/20221230090000-JPL-L4_GHRSST-SSTfnd-MUR25-GLOB-v02.0-fv04.2.nc\n",
      "s3://podaac-ops-cumulus-protected/MUR25-JPL-L4-GLOB-v04.2/20221231090000-JPL-L4_GHRSST-SSTfnd-MUR25-GLOB-v02.0-fv04.2.nc\n",
      "s3://podaac-ops-cumulus-protected/MUR25-JPL-L4-GLOB-v04.2/20230101090000-JPL-L4_GHRSST-SSTfnd-MUR25-GLOB-v02.0-fv04.2.nc\n"
     ]
    }
   ],
   "source": [
    "granule_URL_lists = cmr_query.query_granules_by_shortname(\n",
    "                            shortnames=\"MUR25-JPL-L4-GLOB-v04.2\", \n",
    "                            provider=\"POCLOUD\", \n",
    "                            temporal_range=\"2022-12-01T00:00:00Z,2022-12-31T23:59:59Z\")\n",
    "\n",
    "for list in granule_URL_lists:\n",
    "    for granule in list:\n",
    "        print(u)"
   ]
  },
  {
   "cell_type": "code",
   "execution_count": 16,
   "metadata": {},
   "outputs": [],
   "source": [
    "import requests\n",
    "import boto3\n",
    "import s3fs\n",
    "import xarray as xr\n",
    "import numpy as np\n",
    "\n",
    "s3_cred_endpoint = {\n",
    "    'podaac':'https://archive.podaac.earthdata.nasa.gov/s3credentials'\n",
    "}\n",
    "\n",
    "def get_temp_creds(provider):\n",
    "    return requests.get(s3_cred_endpoint[provider]).json()\n",
    "\n",
    "temp_creds_req = get_temp_creds('podaac')\n",
    "\n",
    "s3_client = s3fs.S3FileSystem(\n",
    "        anon=False, \n",
    "        key=temp_creds_req['accessKeyId'], \n",
    "        secret=temp_creds_req['secretAccessKey'], \n",
    "        token=temp_creds_req['sessionToken']\n",
    "    )\n",
    "\n",
    "lambda_client = boto3.client('lambda')\n",
    "\n",
    "s3_results_bucket = \"s3://podaac-sst/\""
   ]
  },
  {
   "cell_type": "code",
   "execution_count": null,
   "metadata": {},
   "outputs": [],
   "source": [
    "for list in granule_URL_lists:\n",
    "    for granule in list:\n",
    "\n",
    "        lambda_payload = {\"input_granule_s3path\": granule, \"output_granule_s3bucket\": s3_results_bucket}\n",
    "\n",
    "        lambda_client.invoke(\n",
    "            FunctionName=\"podaac-sst\",\n",
    "            InvocationType=\"Event\",\n",
    "            Payload=lambda_payload\n",
    "        )\n",
    "        "
   ]
  },
  {
   "cell_type": "markdown",
   "metadata": {},
   "source": [
    "### clean up and delete token"
   ]
  },
  {
   "cell_type": "code",
   "execution_count": null,
   "metadata": {},
   "outputs": [],
   "source": [
    "cmr_query.delete_token()"
   ]
  },
  {
   "attachments": {},
   "cell_type": "markdown",
   "metadata": {},
   "source": [
    "## Step 3: Plot results as timeseries"
   ]
  },
  {
   "attachments": {},
   "cell_type": "markdown",
   "metadata": {},
   "source": [
    "Open the resulting global mean files in xarray:"
   ]
  },
  {
   "cell_type": "code",
   "execution_count": null,
   "metadata": {},
   "outputs": [],
   "source": [
    "# set up the connection to the S3 bucket holding the results\n",
    "s3_local = s3fs.S3FileSystem()\n",
    "\n",
    "s3_files = s3_local.glob(s3_results_bucket)\n",
    "\n",
    "# iterate through s3 files to create a fileset\n",
    "fileset = [s3_local.open(file) for file in s3_files]\n",
    "\n",
    "# open all files as an xarray dataset\n",
    "data = xr.open_mfdataset(fileset, combine='by_coords')\n"
   ]
  },
  {
   "attachments": {},
   "cell_type": "markdown",
   "metadata": {},
   "source": [
    "Plot the data using matplotlib:"
   ]
  },
  {
   "cell_type": "code",
   "execution_count": null,
   "metadata": {},
   "outputs": [],
   "source": [
    "# set up the figure\n",
    "fig = plt.Figure()\n",
    "\n",
    "# plot the data\n",
    "plt.plot(data.time, data.analysed_sst)\n"
   ]
  }
 ],
 "metadata": {
  "kernelspec": {
   "display_name": "Python 3",
   "language": "python",
   "name": "python3"
  },
  "language_info": {
   "codemirror_mode": {
    "name": "ipython",
    "version": 3
   },
   "file_extension": ".py",
   "mimetype": "text/x-python",
   "name": "python",
   "nbconvert_exporter": "python",
   "pygments_lexer": "ipython3",
   "version": "3.9.13"
  },
  "vscode": {
   "interpreter": {
    "hash": "32a40736d00c188d2effbb1afc97ba7e733733270c902b4998c089acce9c970f"
   }
  }
 },
 "nbformat": 4,
 "nbformat_minor": 4
}
