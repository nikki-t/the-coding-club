{
 "cells": [
  {
   "attachments": {},
   "cell_type": "markdown",
   "metadata": {},
   "source": [
    "# Cloud Computing for Science with AWS Lambda \n",
    "\n",
    "This tutorial demonstrates how to plot a timeseries of global mean sea surface temperature values using AWS Lambda to perform the global mean computation. We use the MUR 25km dataset. \n",
    "\n",
    "This is one example of how to take advantage of AWS Cloud Computing capabilities. Note that using AWS Compute services will incur costs that will be charged to your AWS account. Where possible we indicate estimates of the compute cost associated with this tutorial, but if you apply it to a larger time period or different dataset, the compute costs may be larger than indicated here. "
   ]
  },
  {
   "attachments": {},
   "cell_type": "markdown",
   "metadata": {},
   "source": [
    "## Step 0: Set up AWS infrastructure\n",
    "\n",
    "This tutorial takes advantage of numerous AWS Services including Lambda, Parameter Store, Elastic Compute Cloud (EC2), Elastic Container Registry (ECR), and Simple Storage Service (S3). \n",
    "\n",
    "#### Deploy Lambda function using Terraform\n",
    "\n",
    "AWS Lambda is compute service that runs code in response to events. The Lambda code is packaged in a Docker image, and we use Terraform to handle setting up the AWS Lambda function.\n",
    "\n",
    "#### Set up Earthdata credentials in AWS Parameter Store\n",
    "\n",
    "** Do we need this? Maybe only for testing?\n",
    "To avoid hard-coding Earthdata credentials or a .netrc file in the Docker image, we use the AWS parameter store to set the Earthdata credentials. This means that the same Lambda code can run without modification in any user environment and will assume the correct EDL that is set by each user in your AWS Parameter Store. \n",
    "\n",
    "#### Set up S3 bucket to hold granules and results\n",
    "\n",
    "\n",
    "\n",
    "#### Test Lambda function\n",
    "\n",
    "#### Connect to EC2 instance to run this notebook\n",
    "\n",
    "This notebook cannot be run on a local computer, as it heavily depends on direct in-cloud access. To run this notebook in AWS, connect to an EC2 instance running in the us-west-2 region, following the instructions < here >. Once you have connected to the EC2 instance you can clone this repository into that environment, install the required packages, and run this notebook. \n",
    "\n"
   ]
  },
  {
   "attachments": {},
   "cell_type": "markdown",
   "metadata": {},
   "source": [
    "## Step 1: Log in to Earthdata"
   ]
  },
  {
   "attachments": {},
   "cell_type": "markdown",
   "metadata": {},
   "source": [
    "## Step 2: Query CMR for granules, and copy to local S3 bucket"
   ]
  },
  {
   "cell_type": "code",
   "execution_count": 12,
   "metadata": {},
   "outputs": [],
   "source": [
    "from CMRQuery import CMRQuery\n",
    "import json\n",
    "import boto3\n",
    "import s3fs\n",
    "import xarray as xr\n",
    "import matplotlib.pyplot as plt"
   ]
  },
  {
   "cell_type": "markdown",
   "metadata": {},
   "source": [
    "### Initialize the query object, login to Earthdata and set the authentication token"
   ]
  },
  {
   "cell_type": "code",
   "execution_count": 6,
   "metadata": {},
   "outputs": [],
   "source": [
    "cmr_query = CMRQuery()\n",
    "\n"
   ]
  },
  {
   "cell_type": "markdown",
   "metadata": {},
   "source": [
    "### Get the shortnames for all L4 collections containing 'sst' or 'sea surface temperature' keywords"
   ]
  },
  {
   "cell_type": "code",
   "execution_count": 7,
   "metadata": {},
   "outputs": [
    {
     "name": "stdout",
     "output_type": "stream",
     "text": [
      "CMC0.1deg-CMC-L4-GLOB-v3.0\n",
      "MUR-JPL-L4-GLOB-v4.1\n",
      "AVHRR_OI-NCEI-L4-GLOB-v2.0\n",
      "AVHRR_OI-NCEI-L4-GLOB-v2.1\n",
      "CMC0.2deg-CMC-L4-GLOB-v2.0\n",
      "DMI_OI-DMI-L4-GLOB-v1.0\n",
      "GAMSSA_28km-ABOM-L4-GLOB-v01\n",
      "Geo_Polar_Blended-OSPO-L4-GLOB-v1.0\n",
      "Geo_Polar_Blended_Night-OSPO-L4-GLOB-v1.0\n",
      "K10_SST-NAVO-L4-GLOB-v01\n",
      "MITgcm_LLC4320_Pre-SWOT_JPL_L4_BassStrait_v1.0\n",
      "MUR25-JPL-L4-GLOB-v04.2\n",
      "MW_IR_OI-REMSS-L4-GLOB-v5.0\n",
      "MW_IR_OI-REMSS-L4-GLOB-v5.1\n",
      "MW_OI-REMSS-L4-GLOB-v5.0\n",
      "MW_OI-REMSS-L4-GLOB-v5.1\n",
      "OISST_HR_NRT-GOS-L4-BLK-v2.0\n",
      "OISST_HR_NRT-GOS-L4-MED-v2.0\n",
      "OISST_UHR_NRT-GOS-L4-BLK-v2.0\n",
      "OISST_UHR_NRT-GOS-L4-MED-v2.0\n",
      "OSTIA-UKMO-L4-GLOB-REP-v2.0\n",
      "OSTIA-UKMO-L4-GLOB-v2.0\n",
      "RAMSSA_09km-ABOM-L4-AUS-v01\n",
      "REMO_OI_SST_5km-UFRJ-L4-SAMERICA-v1.0\n",
      "REYNOLDS_NCDC_L4_MONTHLY_V5\n"
     ]
    }
   ],
   "source": [
    "shortnames = cmr_query.query_collections_by_keyword(\n",
    "                            provider='POCLOUD',\n",
    "                            keywords=['sst', 'sea surface temperature'],\n",
    "                            processinglevel='4')\n",
    "\n",
    "for s in shortnames:\n",
    "    print(s)"
   ]
  },
  {
   "cell_type": "markdown",
   "metadata": {},
   "source": [
    "### get the granules belonging to each collection found above, within a time range"
   ]
  },
  {
   "cell_type": "code",
   "execution_count": 8,
   "metadata": {},
   "outputs": [
    {
     "name": "stdout",
     "output_type": "stream",
     "text": [
      "s3://podaac-ops-cumulus-protected/MUR25-JPL-L4-GLOB-v04.2/20221201090000-JPL-L4_GHRSST-SSTfnd-MUR25-GLOB-v02.0-fv04.2.nc\n",
      "s3://podaac-ops-cumulus-protected/MUR25-JPL-L4-GLOB-v04.2/20221202090000-JPL-L4_GHRSST-SSTfnd-MUR25-GLOB-v02.0-fv04.2.nc\n",
      "s3://podaac-ops-cumulus-protected/MUR25-JPL-L4-GLOB-v04.2/20221203090000-JPL-L4_GHRSST-SSTfnd-MUR25-GLOB-v02.0-fv04.2.nc\n",
      "s3://podaac-ops-cumulus-protected/MUR25-JPL-L4-GLOB-v04.2/20221204090000-JPL-L4_GHRSST-SSTfnd-MUR25-GLOB-v02.0-fv04.2.nc\n",
      "s3://podaac-ops-cumulus-protected/MUR25-JPL-L4-GLOB-v04.2/20221205090000-JPL-L4_GHRSST-SSTfnd-MUR25-GLOB-v02.0-fv04.2.nc\n",
      "s3://podaac-ops-cumulus-protected/MUR25-JPL-L4-GLOB-v04.2/20221206090000-JPL-L4_GHRSST-SSTfnd-MUR25-GLOB-v02.0-fv04.2.nc\n",
      "s3://podaac-ops-cumulus-protected/MUR25-JPL-L4-GLOB-v04.2/20221207090000-JPL-L4_GHRSST-SSTfnd-MUR25-GLOB-v02.0-fv04.2.nc\n",
      "s3://podaac-ops-cumulus-protected/MUR25-JPL-L4-GLOB-v04.2/20221208090000-JPL-L4_GHRSST-SSTfnd-MUR25-GLOB-v02.0-fv04.2.nc\n",
      "s3://podaac-ops-cumulus-protected/MUR25-JPL-L4-GLOB-v04.2/20221209090000-JPL-L4_GHRSST-SSTfnd-MUR25-GLOB-v02.0-fv04.2.nc\n",
      "s3://podaac-ops-cumulus-protected/MUR25-JPL-L4-GLOB-v04.2/20221210090000-JPL-L4_GHRSST-SSTfnd-MUR25-GLOB-v02.0-fv04.2.nc\n",
      "s3://podaac-ops-cumulus-protected/MUR25-JPL-L4-GLOB-v04.2/20221211090000-JPL-L4_GHRSST-SSTfnd-MUR25-GLOB-v02.0-fv04.2.nc\n",
      "s3://podaac-ops-cumulus-protected/MUR25-JPL-L4-GLOB-v04.2/20221212090000-JPL-L4_GHRSST-SSTfnd-MUR25-GLOB-v02.0-fv04.2.nc\n",
      "s3://podaac-ops-cumulus-protected/MUR25-JPL-L4-GLOB-v04.2/20221213090000-JPL-L4_GHRSST-SSTfnd-MUR25-GLOB-v02.0-fv04.2.nc\n",
      "s3://podaac-ops-cumulus-protected/MUR25-JPL-L4-GLOB-v04.2/20221214090000-JPL-L4_GHRSST-SSTfnd-MUR25-GLOB-v02.0-fv04.2.nc\n",
      "s3://podaac-ops-cumulus-protected/MUR25-JPL-L4-GLOB-v04.2/20221215090000-JPL-L4_GHRSST-SSTfnd-MUR25-GLOB-v02.0-fv04.2.nc\n",
      "s3://podaac-ops-cumulus-protected/MUR25-JPL-L4-GLOB-v04.2/20221216090000-JPL-L4_GHRSST-SSTfnd-MUR25-GLOB-v02.0-fv04.2.nc\n",
      "s3://podaac-ops-cumulus-protected/MUR25-JPL-L4-GLOB-v04.2/20221217090000-JPL-L4_GHRSST-SSTfnd-MUR25-GLOB-v02.0-fv04.2.nc\n",
      "s3://podaac-ops-cumulus-protected/MUR25-JPL-L4-GLOB-v04.2/20221218090000-JPL-L4_GHRSST-SSTfnd-MUR25-GLOB-v02.0-fv04.2.nc\n",
      "s3://podaac-ops-cumulus-protected/MUR25-JPL-L4-GLOB-v04.2/20221219090000-JPL-L4_GHRSST-SSTfnd-MUR25-GLOB-v02.0-fv04.2.nc\n",
      "s3://podaac-ops-cumulus-protected/MUR25-JPL-L4-GLOB-v04.2/20221220090000-JPL-L4_GHRSST-SSTfnd-MUR25-GLOB-v02.0-fv04.2.nc\n",
      "s3://podaac-ops-cumulus-protected/MUR25-JPL-L4-GLOB-v04.2/20221221090000-JPL-L4_GHRSST-SSTfnd-MUR25-GLOB-v02.0-fv04.2.nc\n",
      "s3://podaac-ops-cumulus-protected/MUR25-JPL-L4-GLOB-v04.2/20221222090000-JPL-L4_GHRSST-SSTfnd-MUR25-GLOB-v02.0-fv04.2.nc\n",
      "s3://podaac-ops-cumulus-protected/MUR25-JPL-L4-GLOB-v04.2/20221223090000-JPL-L4_GHRSST-SSTfnd-MUR25-GLOB-v02.0-fv04.2.nc\n",
      "s3://podaac-ops-cumulus-protected/MUR25-JPL-L4-GLOB-v04.2/20221224090000-JPL-L4_GHRSST-SSTfnd-MUR25-GLOB-v02.0-fv04.2.nc\n",
      "s3://podaac-ops-cumulus-protected/MUR25-JPL-L4-GLOB-v04.2/20221225090000-JPL-L4_GHRSST-SSTfnd-MUR25-GLOB-v02.0-fv04.2.nc\n",
      "s3://podaac-ops-cumulus-protected/MUR25-JPL-L4-GLOB-v04.2/20221226090000-JPL-L4_GHRSST-SSTfnd-MUR25-GLOB-v02.0-fv04.2.nc\n",
      "s3://podaac-ops-cumulus-protected/MUR25-JPL-L4-GLOB-v04.2/20221227090000-JPL-L4_GHRSST-SSTfnd-MUR25-GLOB-v02.0-fv04.2.nc\n",
      "s3://podaac-ops-cumulus-protected/MUR25-JPL-L4-GLOB-v04.2/20221228090000-JPL-L4_GHRSST-SSTfnd-MUR25-GLOB-v02.0-fv04.2.nc\n",
      "s3://podaac-ops-cumulus-protected/MUR25-JPL-L4-GLOB-v04.2/20221229090000-JPL-L4_GHRSST-SSTfnd-MUR25-GLOB-v02.0-fv04.2.nc\n",
      "s3://podaac-ops-cumulus-protected/MUR25-JPL-L4-GLOB-v04.2/20221230090000-JPL-L4_GHRSST-SSTfnd-MUR25-GLOB-v02.0-fv04.2.nc\n",
      "s3://podaac-ops-cumulus-protected/MUR25-JPL-L4-GLOB-v04.2/20221231090000-JPL-L4_GHRSST-SSTfnd-MUR25-GLOB-v02.0-fv04.2.nc\n",
      "s3://podaac-ops-cumulus-protected/MUR25-JPL-L4-GLOB-v04.2/20230101090000-JPL-L4_GHRSST-SSTfnd-MUR25-GLOB-v02.0-fv04.2.nc\n"
     ]
    }
   ],
   "source": [
    "granule_URL_lists = cmr_query.query_granules_by_shortname(\n",
    "                            shortnames=\"MUR25-JPL-L4-GLOB-v04.2\", \n",
    "                            provider=\"POCLOUD\", \n",
    "                            temporal_range=\"2022-12-01T00:00:00Z,2022-12-31T23:59:59Z\")\n",
    "\n",
    "for list in granule_URL_lists:\n",
    "    for granule in list:\n",
    "        print(granule)"
   ]
  },
  {
   "cell_type": "code",
   "execution_count": 15,
   "metadata": {},
   "outputs": [
    {
     "ename": "NoCredentialsError",
     "evalue": "Unable to locate credentials",
     "output_type": "error",
     "traceback": [
      "\u001b[0;31m---------------------------------------------------------------------------\u001b[0m",
      "\u001b[0;31mNoCredentialsError\u001b[0m                        Traceback (most recent call last)",
      "Cell \u001b[0;32mIn[15], line 6\u001b[0m\n\u001b[1;32m      2\u001b[0m \u001b[39mfor\u001b[39;00m granule \u001b[39min\u001b[39;00m \u001b[39mlist\u001b[39m:\n\u001b[1;32m      4\u001b[0m     lambda_payload \u001b[39m=\u001b[39m {\u001b[39m\"\u001b[39m\u001b[39minput_granule_s3path\u001b[39m\u001b[39m\"\u001b[39m: granule, \u001b[39m\"\u001b[39m\u001b[39moutput_granule_s3bucket\u001b[39m\u001b[39m\"\u001b[39m: s3_results_bucket, \u001b[39m\"\u001b[39m\u001b[39mprefix\u001b[39m\u001b[39m\"\u001b[39m:\u001b[39m\"\u001b[39m\u001b[39mpodaac\u001b[39m\u001b[39m\"\u001b[39m}\n\u001b[0;32m----> 6\u001b[0m     lambda_client\u001b[39m.\u001b[39;49minvoke(\n\u001b[1;32m      7\u001b[0m         FunctionName\u001b[39m=\u001b[39;49m\u001b[39m\"\u001b[39;49m\u001b[39mpodaac-sst\u001b[39;49m\u001b[39m\"\u001b[39;49m,\n\u001b[1;32m      8\u001b[0m         InvocationType\u001b[39m=\u001b[39;49m\u001b[39m\"\u001b[39;49m\u001b[39mEvent\u001b[39;49m\u001b[39m\"\u001b[39;49m,\n\u001b[1;32m      9\u001b[0m         Payload\u001b[39m=\u001b[39;49mjson\u001b[39m.\u001b[39;49mdumps(lambda_payload)\n\u001b[1;32m     10\u001b[0m     )\n",
      "File \u001b[0;32m~/miniconda3/envs/scratch/lib/python3.9/site-packages/botocore/client.py:508\u001b[0m, in \u001b[0;36mClientCreator._create_api_method.<locals>._api_call\u001b[0;34m(self, *args, **kwargs)\u001b[0m\n\u001b[1;32m    504\u001b[0m     \u001b[39mraise\u001b[39;00m \u001b[39mTypeError\u001b[39;00m(\n\u001b[1;32m    505\u001b[0m         \u001b[39mf\u001b[39m\u001b[39m\"\u001b[39m\u001b[39m{\u001b[39;00mpy_operation_name\u001b[39m}\u001b[39;00m\u001b[39m() only accepts keyword arguments.\u001b[39m\u001b[39m\"\u001b[39m\n\u001b[1;32m    506\u001b[0m     )\n\u001b[1;32m    507\u001b[0m \u001b[39m# The \"self\" in this scope is referring to the BaseClient.\u001b[39;00m\n\u001b[0;32m--> 508\u001b[0m \u001b[39mreturn\u001b[39;00m \u001b[39mself\u001b[39;49m\u001b[39m.\u001b[39;49m_make_api_call(operation_name, kwargs)\n",
      "File \u001b[0;32m~/miniconda3/envs/scratch/lib/python3.9/site-packages/botocore/client.py:898\u001b[0m, in \u001b[0;36mBaseClient._make_api_call\u001b[0;34m(self, operation_name, api_params)\u001b[0m\n\u001b[1;32m    896\u001b[0m \u001b[39melse\u001b[39;00m:\n\u001b[1;32m    897\u001b[0m     apply_request_checksum(request_dict)\n\u001b[0;32m--> 898\u001b[0m     http, parsed_response \u001b[39m=\u001b[39m \u001b[39mself\u001b[39;49m\u001b[39m.\u001b[39;49m_make_request(\n\u001b[1;32m    899\u001b[0m         operation_model, request_dict, request_context\n\u001b[1;32m    900\u001b[0m     )\n\u001b[1;32m    902\u001b[0m \u001b[39mself\u001b[39m\u001b[39m.\u001b[39mmeta\u001b[39m.\u001b[39mevents\u001b[39m.\u001b[39memit(\n\u001b[1;32m    903\u001b[0m     \u001b[39m'\u001b[39m\u001b[39mafter-call.\u001b[39m\u001b[39m{service_id}\u001b[39;00m\u001b[39m.\u001b[39m\u001b[39m{operation_name}\u001b[39;00m\u001b[39m'\u001b[39m\u001b[39m.\u001b[39mformat(\n\u001b[1;32m    904\u001b[0m         service_id\u001b[39m=\u001b[39mservice_id, operation_name\u001b[39m=\u001b[39moperation_name\n\u001b[0;32m   (...)\u001b[0m\n\u001b[1;32m    909\u001b[0m     context\u001b[39m=\u001b[39mrequest_context,\n\u001b[1;32m    910\u001b[0m )\n\u001b[1;32m    912\u001b[0m \u001b[39mif\u001b[39;00m http\u001b[39m.\u001b[39mstatus_code \u001b[39m>\u001b[39m\u001b[39m=\u001b[39m \u001b[39m300\u001b[39m:\n",
      "File \u001b[0;32m~/miniconda3/envs/scratch/lib/python3.9/site-packages/botocore/client.py:921\u001b[0m, in \u001b[0;36mBaseClient._make_request\u001b[0;34m(self, operation_model, request_dict, request_context)\u001b[0m\n\u001b[1;32m    919\u001b[0m \u001b[39mdef\u001b[39;00m \u001b[39m_make_request\u001b[39m(\u001b[39mself\u001b[39m, operation_model, request_dict, request_context):\n\u001b[1;32m    920\u001b[0m     \u001b[39mtry\u001b[39;00m:\n\u001b[0;32m--> 921\u001b[0m         \u001b[39mreturn\u001b[39;00m \u001b[39mself\u001b[39;49m\u001b[39m.\u001b[39;49m_endpoint\u001b[39m.\u001b[39;49mmake_request(operation_model, request_dict)\n\u001b[1;32m    922\u001b[0m     \u001b[39mexcept\u001b[39;00m \u001b[39mException\u001b[39;00m \u001b[39mas\u001b[39;00m e:\n\u001b[1;32m    923\u001b[0m         \u001b[39mself\u001b[39m\u001b[39m.\u001b[39mmeta\u001b[39m.\u001b[39mevents\u001b[39m.\u001b[39memit(\n\u001b[1;32m    924\u001b[0m             \u001b[39m'\u001b[39m\u001b[39mafter-call-error.\u001b[39m\u001b[39m{service_id}\u001b[39;00m\u001b[39m.\u001b[39m\u001b[39m{operation_name}\u001b[39;00m\u001b[39m'\u001b[39m\u001b[39m.\u001b[39mformat(\n\u001b[1;32m    925\u001b[0m                 service_id\u001b[39m=\u001b[39m\u001b[39mself\u001b[39m\u001b[39m.\u001b[39m_service_model\u001b[39m.\u001b[39mservice_id\u001b[39m.\u001b[39mhyphenize(),\n\u001b[0;32m   (...)\u001b[0m\n\u001b[1;32m    929\u001b[0m             context\u001b[39m=\u001b[39mrequest_context,\n\u001b[1;32m    930\u001b[0m         )\n",
      "File \u001b[0;32m~/miniconda3/envs/scratch/lib/python3.9/site-packages/botocore/endpoint.py:119\u001b[0m, in \u001b[0;36mEndpoint.make_request\u001b[0;34m(self, operation_model, request_dict)\u001b[0m\n\u001b[1;32m    113\u001b[0m \u001b[39mdef\u001b[39;00m \u001b[39mmake_request\u001b[39m(\u001b[39mself\u001b[39m, operation_model, request_dict):\n\u001b[1;32m    114\u001b[0m     logger\u001b[39m.\u001b[39mdebug(\n\u001b[1;32m    115\u001b[0m         \u001b[39m\"\u001b[39m\u001b[39mMaking request for \u001b[39m\u001b[39m%s\u001b[39;00m\u001b[39m with params: \u001b[39m\u001b[39m%s\u001b[39;00m\u001b[39m\"\u001b[39m,\n\u001b[1;32m    116\u001b[0m         operation_model,\n\u001b[1;32m    117\u001b[0m         request_dict,\n\u001b[1;32m    118\u001b[0m     )\n\u001b[0;32m--> 119\u001b[0m     \u001b[39mreturn\u001b[39;00m \u001b[39mself\u001b[39;49m\u001b[39m.\u001b[39;49m_send_request(request_dict, operation_model)\n",
      "File \u001b[0;32m~/miniconda3/envs/scratch/lib/python3.9/site-packages/botocore/endpoint.py:198\u001b[0m, in \u001b[0;36mEndpoint._send_request\u001b[0;34m(self, request_dict, operation_model)\u001b[0m\n\u001b[1;32m    196\u001b[0m context \u001b[39m=\u001b[39m request_dict[\u001b[39m'\u001b[39m\u001b[39mcontext\u001b[39m\u001b[39m'\u001b[39m]\n\u001b[1;32m    197\u001b[0m \u001b[39mself\u001b[39m\u001b[39m.\u001b[39m_update_retries_context(context, attempts)\n\u001b[0;32m--> 198\u001b[0m request \u001b[39m=\u001b[39m \u001b[39mself\u001b[39;49m\u001b[39m.\u001b[39;49mcreate_request(request_dict, operation_model)\n\u001b[1;32m    199\u001b[0m success_response, exception \u001b[39m=\u001b[39m \u001b[39mself\u001b[39m\u001b[39m.\u001b[39m_get_response(\n\u001b[1;32m    200\u001b[0m     request, operation_model, context\n\u001b[1;32m    201\u001b[0m )\n\u001b[1;32m    202\u001b[0m \u001b[39mwhile\u001b[39;00m \u001b[39mself\u001b[39m\u001b[39m.\u001b[39m_needs_retry(\n\u001b[1;32m    203\u001b[0m     attempts,\n\u001b[1;32m    204\u001b[0m     operation_model,\n\u001b[0;32m   (...)\u001b[0m\n\u001b[1;32m    207\u001b[0m     exception,\n\u001b[1;32m    208\u001b[0m ):\n",
      "File \u001b[0;32m~/miniconda3/envs/scratch/lib/python3.9/site-packages/botocore/endpoint.py:134\u001b[0m, in \u001b[0;36mEndpoint.create_request\u001b[0;34m(self, params, operation_model)\u001b[0m\n\u001b[1;32m    130\u001b[0m     service_id \u001b[39m=\u001b[39m operation_model\u001b[39m.\u001b[39mservice_model\u001b[39m.\u001b[39mservice_id\u001b[39m.\u001b[39mhyphenize()\n\u001b[1;32m    131\u001b[0m     event_name \u001b[39m=\u001b[39m \u001b[39m'\u001b[39m\u001b[39mrequest-created.\u001b[39m\u001b[39m{service_id}\u001b[39;00m\u001b[39m.\u001b[39m\u001b[39m{op_name}\u001b[39;00m\u001b[39m'\u001b[39m\u001b[39m.\u001b[39mformat(\n\u001b[1;32m    132\u001b[0m         service_id\u001b[39m=\u001b[39mservice_id, op_name\u001b[39m=\u001b[39moperation_model\u001b[39m.\u001b[39mname\n\u001b[1;32m    133\u001b[0m     )\n\u001b[0;32m--> 134\u001b[0m     \u001b[39mself\u001b[39;49m\u001b[39m.\u001b[39;49m_event_emitter\u001b[39m.\u001b[39;49memit(\n\u001b[1;32m    135\u001b[0m         event_name,\n\u001b[1;32m    136\u001b[0m         request\u001b[39m=\u001b[39;49mrequest,\n\u001b[1;32m    137\u001b[0m         operation_name\u001b[39m=\u001b[39;49moperation_model\u001b[39m.\u001b[39;49mname,\n\u001b[1;32m    138\u001b[0m     )\n\u001b[1;32m    139\u001b[0m prepared_request \u001b[39m=\u001b[39m \u001b[39mself\u001b[39m\u001b[39m.\u001b[39mprepare_request(request)\n\u001b[1;32m    140\u001b[0m \u001b[39mreturn\u001b[39;00m prepared_request\n",
      "File \u001b[0;32m~/miniconda3/envs/scratch/lib/python3.9/site-packages/botocore/hooks.py:412\u001b[0m, in \u001b[0;36mEventAliaser.emit\u001b[0;34m(self, event_name, **kwargs)\u001b[0m\n\u001b[1;32m    410\u001b[0m \u001b[39mdef\u001b[39;00m \u001b[39memit\u001b[39m(\u001b[39mself\u001b[39m, event_name, \u001b[39m*\u001b[39m\u001b[39m*\u001b[39mkwargs):\n\u001b[1;32m    411\u001b[0m     aliased_event_name \u001b[39m=\u001b[39m \u001b[39mself\u001b[39m\u001b[39m.\u001b[39m_alias_event_name(event_name)\n\u001b[0;32m--> 412\u001b[0m     \u001b[39mreturn\u001b[39;00m \u001b[39mself\u001b[39;49m\u001b[39m.\u001b[39;49m_emitter\u001b[39m.\u001b[39;49memit(aliased_event_name, \u001b[39m*\u001b[39;49m\u001b[39m*\u001b[39;49mkwargs)\n",
      "File \u001b[0;32m~/miniconda3/envs/scratch/lib/python3.9/site-packages/botocore/hooks.py:256\u001b[0m, in \u001b[0;36mHierarchicalEmitter.emit\u001b[0;34m(self, event_name, **kwargs)\u001b[0m\n\u001b[1;32m    245\u001b[0m \u001b[39mdef\u001b[39;00m \u001b[39memit\u001b[39m(\u001b[39mself\u001b[39m, event_name, \u001b[39m*\u001b[39m\u001b[39m*\u001b[39mkwargs):\n\u001b[1;32m    246\u001b[0m     \u001b[39m\"\"\"\u001b[39;00m\n\u001b[1;32m    247\u001b[0m \u001b[39m    Emit an event by name with arguments passed as keyword args.\u001b[39;00m\n\u001b[1;32m    248\u001b[0m \n\u001b[0;32m   (...)\u001b[0m\n\u001b[1;32m    254\u001b[0m \u001b[39m             handlers.\u001b[39;00m\n\u001b[1;32m    255\u001b[0m \u001b[39m    \"\"\"\u001b[39;00m\n\u001b[0;32m--> 256\u001b[0m     \u001b[39mreturn\u001b[39;00m \u001b[39mself\u001b[39;49m\u001b[39m.\u001b[39;49m_emit(event_name, kwargs)\n",
      "File \u001b[0;32m~/miniconda3/envs/scratch/lib/python3.9/site-packages/botocore/hooks.py:239\u001b[0m, in \u001b[0;36mHierarchicalEmitter._emit\u001b[0;34m(self, event_name, kwargs, stop_on_response)\u001b[0m\n\u001b[1;32m    237\u001b[0m \u001b[39mfor\u001b[39;00m handler \u001b[39min\u001b[39;00m handlers_to_call:\n\u001b[1;32m    238\u001b[0m     logger\u001b[39m.\u001b[39mdebug(\u001b[39m'\u001b[39m\u001b[39mEvent \u001b[39m\u001b[39m%s\u001b[39;00m\u001b[39m: calling handler \u001b[39m\u001b[39m%s\u001b[39;00m\u001b[39m'\u001b[39m, event_name, handler)\n\u001b[0;32m--> 239\u001b[0m     response \u001b[39m=\u001b[39m handler(\u001b[39m*\u001b[39;49m\u001b[39m*\u001b[39;49mkwargs)\n\u001b[1;32m    240\u001b[0m     responses\u001b[39m.\u001b[39mappend((handler, response))\n\u001b[1;32m    241\u001b[0m     \u001b[39mif\u001b[39;00m stop_on_response \u001b[39mand\u001b[39;00m response \u001b[39mis\u001b[39;00m \u001b[39mnot\u001b[39;00m \u001b[39mNone\u001b[39;00m:\n",
      "File \u001b[0;32m~/miniconda3/envs/scratch/lib/python3.9/site-packages/botocore/signers.py:103\u001b[0m, in \u001b[0;36mRequestSigner.handler\u001b[0;34m(self, operation_name, request, **kwargs)\u001b[0m\n\u001b[1;32m     98\u001b[0m \u001b[39mdef\u001b[39;00m \u001b[39mhandler\u001b[39m(\u001b[39mself\u001b[39m, operation_name\u001b[39m=\u001b[39m\u001b[39mNone\u001b[39;00m, request\u001b[39m=\u001b[39m\u001b[39mNone\u001b[39;00m, \u001b[39m*\u001b[39m\u001b[39m*\u001b[39mkwargs):\n\u001b[1;32m     99\u001b[0m     \u001b[39m# This is typically hooked up to the \"request-created\" event\u001b[39;00m\n\u001b[1;32m    100\u001b[0m     \u001b[39m# from a client's event emitter.  When a new request is created\u001b[39;00m\n\u001b[1;32m    101\u001b[0m     \u001b[39m# this method is invoked to sign the request.\u001b[39;00m\n\u001b[1;32m    102\u001b[0m     \u001b[39m# Don't call this method directly.\u001b[39;00m\n\u001b[0;32m--> 103\u001b[0m     \u001b[39mreturn\u001b[39;00m \u001b[39mself\u001b[39;49m\u001b[39m.\u001b[39;49msign(operation_name, request)\n",
      "File \u001b[0;32m~/miniconda3/envs/scratch/lib/python3.9/site-packages/botocore/signers.py:187\u001b[0m, in \u001b[0;36mRequestSigner.sign\u001b[0;34m(self, operation_name, request, region_name, signing_type, expires_in, signing_name)\u001b[0m\n\u001b[1;32m    184\u001b[0m     \u001b[39melse\u001b[39;00m:\n\u001b[1;32m    185\u001b[0m         \u001b[39mraise\u001b[39;00m e\n\u001b[0;32m--> 187\u001b[0m auth\u001b[39m.\u001b[39;49madd_auth(request)\n",
      "File \u001b[0;32m~/miniconda3/envs/scratch/lib/python3.9/site-packages/botocore/auth.py:407\u001b[0m, in \u001b[0;36mSigV4Auth.add_auth\u001b[0;34m(self, request)\u001b[0m\n\u001b[1;32m    405\u001b[0m \u001b[39mdef\u001b[39;00m \u001b[39madd_auth\u001b[39m(\u001b[39mself\u001b[39m, request):\n\u001b[1;32m    406\u001b[0m     \u001b[39mif\u001b[39;00m \u001b[39mself\u001b[39m\u001b[39m.\u001b[39mcredentials \u001b[39mis\u001b[39;00m \u001b[39mNone\u001b[39;00m:\n\u001b[0;32m--> 407\u001b[0m         \u001b[39mraise\u001b[39;00m NoCredentialsError()\n\u001b[1;32m    408\u001b[0m     datetime_now \u001b[39m=\u001b[39m datetime\u001b[39m.\u001b[39mdatetime\u001b[39m.\u001b[39mutcnow()\n\u001b[1;32m    409\u001b[0m     request\u001b[39m.\u001b[39mcontext[\u001b[39m'\u001b[39m\u001b[39mtimestamp\u001b[39m\u001b[39m'\u001b[39m] \u001b[39m=\u001b[39m datetime_now\u001b[39m.\u001b[39mstrftime(SIGV4_TIMESTAMP)\n",
      "\u001b[0;31mNoCredentialsError\u001b[0m: Unable to locate credentials"
     ]
    }
   ],
   "source": [
    "session = boto3.Session(profile_name='saml-pub')\n",
    "\n",
    "lambda_client = session.client('lambda', region_name='us-west-2')\n",
    "\n",
    "s3_results_bucket = \"podaac-sst\"\n",
    "\n",
    "for list in granule_URL_lists:\n",
    "    for granule in list:\n",
    "\n",
    "        lambda_payload = {\"input_granule_s3path\": granule, \"output_granule_s3bucket\": s3_results_bucket, \"prefix\":\"podaac\"}\n",
    "\n",
    "        lambda_client.invoke(\n",
    "            FunctionName=\"podaac-sst\",\n",
    "            InvocationType=\"Event\",\n",
    "            Payload=json.dumps(lambda_payload)\n",
    "        )"
   ]
  },
  {
   "cell_type": "markdown",
   "metadata": {},
   "source": [
    "### clean up and delete token"
   ]
  },
  {
   "cell_type": "code",
   "execution_count": null,
   "metadata": {},
   "outputs": [],
   "source": [
    "cmr_query.delete_token()"
   ]
  },
  {
   "attachments": {},
   "cell_type": "markdown",
   "metadata": {},
   "source": [
    "## Step 3: Plot results as timeseries"
   ]
  },
  {
   "attachments": {},
   "cell_type": "markdown",
   "metadata": {},
   "source": [
    "Open the resulting global mean files in xarray:"
   ]
  },
  {
   "cell_type": "code",
   "execution_count": null,
   "metadata": {},
   "outputs": [],
   "source": [
    "# set up the connection to the S3 bucket holding the results\n",
    "s3_results = s3fs.S3FileSystem(\n",
    "    anon=False,\n",
    "    profile='saml-pub'\n",
    ")\n",
    "\n",
    "s3_files = s3_results.glob(\"s3://\" + s3_results_bucket + \"/*\")\n",
    "\n",
    "print(s3_files)\n",
    "\n",
    "# iterate through s3 files to create a fileset\n",
    "fileset = [s3_results.open(file) for file in s3_files]\n",
    "\n",
    "\n",
    "\n",
    "# open all files as an xarray dataset\n",
    "data = xr.open_mfdataset(fileset, combine='by_coords', engine='scipy')"
   ]
  },
  {
   "cell_type": "code",
   "execution_count": null,
   "metadata": {},
   "outputs": [],
   "source": [
    "data"
   ]
  },
  {
   "attachments": {},
   "cell_type": "markdown",
   "metadata": {},
   "source": [
    "Plot the data using matplotlib:"
   ]
  },
  {
   "cell_type": "code",
   "execution_count": null,
   "metadata": {},
   "outputs": [],
   "source": [
    "plt.rcParams['figure.figsize'] = [20, 5]\n",
    "\n",
    "# set up the figure\n",
    "fig = plt.Figure()\n",
    "\n",
    "# plot the data\n",
    "plt.plot(data.time, data.analysed_sst)\n",
    "plt.title('Global Mean Sea Surface Temperature' + '\\n' + 'December 2023, MUR25')\n",
    "\n",
    "plt.ylabel('degrees C')\n"
   ]
  }
 ],
 "metadata": {
  "kernelspec": {
   "display_name": "Python 3",
   "language": "python",
   "name": "python3"
  },
  "language_info": {
   "codemirror_mode": {
    "name": "ipython",
    "version": 3
   },
   "file_extension": ".py",
   "mimetype": "text/x-python",
   "name": "python",
   "nbconvert_exporter": "python",
   "pygments_lexer": "ipython3",
   "version": "3.9.13"
  },
  "vscode": {
   "interpreter": {
    "hash": "32a40736d00c188d2effbb1afc97ba7e733733270c902b4998c089acce9c970f"
   }
  }
 },
 "nbformat": 4,
 "nbformat_minor": 4
}
