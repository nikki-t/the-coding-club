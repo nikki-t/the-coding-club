{
 "cells": [
  {
   "cell_type": "code",
   "execution_count": 1,
   "metadata": {},
   "outputs": [],
   "source": [
    "from CMRQuery import CMRQuery"
   ]
  },
  {
   "cell_type": "markdown",
   "metadata": {},
   "source": [
    "### Initialize the query object, login to Earthdata and set the authentication token"
   ]
  },
  {
   "cell_type": "code",
   "execution_count": 2,
   "metadata": {},
   "outputs": [],
   "source": [
    "cmr_query = CMRQuery()\n",
    "\n",
    "cmr_query.login_and_set_token()"
   ]
  },
  {
   "cell_type": "markdown",
   "metadata": {},
   "source": [
    "### Get the shortnames for all L4 collections containing 'sst' or 'sea surface temperature' keywords"
   ]
  },
  {
   "cell_type": "code",
   "execution_count": 3,
   "metadata": {},
   "outputs": [
    {
     "name": "stdout",
     "output_type": "stream",
     "text": [
      "CMC0.1deg-CMC-L4-GLOB-v3.0\n",
      "MUR-JPL-L4-GLOB-v4.1\n",
      "K10_SST-NAVO-L4-GLOB-v01\n",
      "MUR25-JPL-L4-GLOB-v04.2\n",
      "AVHRR_OI-NCEI-L4-GLOB-v2.0\n",
      "AVHRR_OI-NCEI-L4-GLOB-v2.1\n",
      "CMC0.2deg-CMC-L4-GLOB-v2.0\n",
      "DMI_OI-DMI-L4-GLOB-v1.0\n",
      "GAMSSA_28km-ABOM-L4-GLOB-v01\n",
      "Geo_Polar_Blended-OSPO-L4-GLOB-v1.0\n",
      "Geo_Polar_Blended_Night-OSPO-L4-GLOB-v1.0\n",
      "MITgcm_LLC4320_Pre-SWOT_JPL_L4_BassStrait_v1.0\n",
      "MW_IR_OI-REMSS-L4-GLOB-v5.0\n",
      "MW_IR_OI-REMSS-L4-GLOB-v5.1\n",
      "MW_OI-REMSS-L4-GLOB-v5.0\n",
      "MW_OI-REMSS-L4-GLOB-v5.1\n",
      "OISST_HR_NRT-GOS-L4-BLK-v2.0\n",
      "OISST_HR_NRT-GOS-L4-MED-v2.0\n",
      "OISST_UHR_NRT-GOS-L4-BLK-v2.0\n",
      "OISST_UHR_NRT-GOS-L4-MED-v2.0\n",
      "OSTIA-UKMO-L4-GLOB-v2.0\n",
      "RAMSSA_09km-ABOM-L4-AUS-v01\n",
      "REMO_OI_SST_5km-UFRJ-L4-SAMERICA-v1.0\n",
      "REYNOLDS_NCDC_L4_MONTHLY_V5\n"
     ]
    }
   ],
   "source": [
    "shortnames = cmr_query.query_collections_by_keyword(\n",
    "                            provider='POCLOUD',\n",
    "                            keywords=['sst', 'sea surface temperature'],\n",
    "                            processinglevel='4')\n",
    "\n",
    "for s in shortnames:\n",
    "    print(s)"
   ]
  },
  {
   "cell_type": "markdown",
   "metadata": {},
   "source": [
    "### get the granules belonging to each collection found above, within a time range"
   ]
  },
  {
   "cell_type": "code",
   "execution_count": 4,
   "metadata": {},
   "outputs": [
    {
     "name": "stdout",
     "output_type": "stream",
     "text": [
      "s3://podaac-ops-cumulus-protected/CMC0.1deg-CMC-L4-GLOB-v3.0/20220717120000-CMC-L4_GHRSST-SSTfnd-CMC0.1deg-GLOB-v02.0-fv03.0.nc\n",
      "s3://podaac-ops-cumulus-protected/CMC0.1deg-CMC-L4-GLOB-v3.0/20220718120000-CMC-L4_GHRSST-SSTfnd-CMC0.1deg-GLOB-v02.0-fv03.0.nc\n",
      "s3://podaac-ops-cumulus-protected/MUR-JPL-L4-GLOB-v4.1/20220718090000-JPL-L4_GHRSST-SSTfnd-MUR-GLOB-v02.0-fv04.1.nc\n",
      "s3://podaac-ops-cumulus-protected/MUR-JPL-L4-GLOB-v4.1/20220719090000-JPL-L4_GHRSST-SSTfnd-MUR-GLOB-v02.0-fv04.1.nc\n",
      "s3://podaac-ops-cumulus-protected/K10_SST-NAVO-L4-GLOB-v01/20220718000000-NAVO-L4_GHRSST-SST1m-K10_SST-GLOB-v02.0-fv01.0.nc\n",
      "s3://podaac-ops-cumulus-protected/MUR25-JPL-L4-GLOB-v04.2/20220718090000-JPL-L4_GHRSST-SSTfnd-MUR25-GLOB-v02.0-fv04.2.nc\n",
      "s3://podaac-ops-cumulus-protected/MUR25-JPL-L4-GLOB-v04.2/20220719090000-JPL-L4_GHRSST-SSTfnd-MUR25-GLOB-v02.0-fv04.2.nc\n",
      "s3://podaac-ops-cumulus-protected/AVHRR_OI-NCEI-L4-GLOB-v2.1/20220717120000-NCEI-L4_GHRSST-SSTblend-AVHRR_OI-GLOB-v02.0-fv02.1.nc\n",
      "s3://podaac-ops-cumulus-protected/AVHRR_OI-NCEI-L4-GLOB-v2.1/20220718120000-NCEI-L4_GHRSST-SSTblend-AVHRR_OI-GLOB-v02.0-fv02.1.nc\n",
      "s3://podaac-ops-cumulus-protected/DMI_OI-DMI-L4-GLOB-v1.0/20220717000000-DMI-L4_GHRSST-SSTfnd-DMI_OI-GLOB-v02.0-fv01.0.nc\n",
      "s3://podaac-ops-cumulus-protected/DMI_OI-DMI-L4-GLOB-v1.0/20220718000000-DMI-L4_GHRSST-SSTfnd-DMI_OI-GLOB-v02.0-fv01.0.nc\n",
      "s3://podaac-ops-cumulus-protected/GAMSSA_28km-ABOM-L4-GLOB-v01/20220717120000-ABOM-L4_GHRSST-SSTfnd-GAMSSA_28km-GLOB-v02.0-fv01.0.nc\n",
      "s3://podaac-ops-cumulus-protected/GAMSSA_28km-ABOM-L4-GLOB-v01/20220718120000-ABOM-L4_GHRSST-SSTfnd-GAMSSA_28km-GLOB-v02.0-fv01.0.nc\n",
      "s3://podaac-ops-cumulus-protected/Geo_Polar_Blended-OSPO-L4-GLOB-v1.0/20220717000000-OSPO-L4_GHRSST-SSTfnd-Geo_Polar_Blended-GLOB-v02.0-fv01.0.nc\n",
      "s3://podaac-ops-cumulus-protected/Geo_Polar_Blended-OSPO-L4-GLOB-v1.0/20220718000000-OSPO-L4_GHRSST-SSTfnd-Geo_Polar_Blended-GLOB-v02.0-fv01.0.nc\n",
      "s3://podaac-ops-cumulus-protected/Geo_Polar_Blended_Night-OSPO-L4-GLOB-v1.0/20220717000000-OSPO-L4_GHRSST-SSTfnd-Geo_Polar_Blended_Night-GLOB-v02.0-fv01.0.nc\n",
      "s3://podaac-ops-cumulus-protected/Geo_Polar_Blended_Night-OSPO-L4-GLOB-v1.0/20220718000000-OSPO-L4_GHRSST-SSTfnd-Geo_Polar_Blended_Night-GLOB-v02.0-fv01.0.nc\n",
      "s3://podaac-ops-cumulus-protected/MW_IR_OI-REMSS-L4-GLOB-v5.0/20220718120000-REMSS-L4_GHRSST-SSTfnd-MW_IR_OI-GLOB-v02.0-fv05.0.nc\n",
      "s3://podaac-ops-cumulus-protected/MW_IR_OI-REMSS-L4-GLOB-v5.1/20220718120000-REMSS-L4_GHRSST-SSTfnd-MW_IR_OI-GLOB-v02.0-fv05.1.nc\n",
      "s3://podaac-ops-cumulus-protected/MW_OI-REMSS-L4-GLOB-v5.0/20220718120000-REMSS-L4_GHRSST-SSTfnd-MW_OI-GLOB-v02.0-fv05.0.nc\n",
      "s3://podaac-ops-cumulus-protected/MW_OI-REMSS-L4-GLOB-v5.1/20220718120000-REMSS-L4_GHRSST-SSTfnd-MW_OI-GLOB-v02.0-fv05.1.nc\n",
      "s3://podaac-ops-cumulus-protected/OISST_HR_NRT-GOS-L4-BLK-v2.0/20220718000000-GOS-L4_GHRSST-SSTfnd-OISST_HR_NRT-BLK-v02.0-fv01.0.nc\n",
      "s3://podaac-ops-cumulus-protected/OISST_HR_NRT-GOS-L4-MED-v2.0/20220718000000-GOS-L4_GHRSST-SSTfnd-OISST_HR_NRT-MED-v02.0-fv01.0.nc\n",
      "s3://podaac-ops-cumulus-protected/OISST_UHR_NRT-GOS-L4-BLK-v2.0/20220718000000-GOS-L4_GHRSST-SSTfnd-OISST_UHR_NRT-BLK-v02.0-fv01.0.nc\n",
      "s3://podaac-ops-cumulus-protected/OISST_UHR_NRT-GOS-L4-MED-v2.0/20220718000000-GOS-L4_GHRSST-SSTfnd-OISST_UHR_NRT-MED-v02.0-fv01.0.nc\n",
      "s3://podaac-ops-cumulus-protected/OSTIA-UKMO-L4-GLOB-v2.0/20220717120000-UKMO-L4_GHRSST-SSTfnd-OSTIA-GLOB-v02.0-fv02.0.nc\n",
      "s3://podaac-ops-cumulus-protected/OSTIA-UKMO-L4-GLOB-v2.0/20220718120000-UKMO-L4_GHRSST-SSTfnd-OSTIA-GLOB-v02.0-fv02.0.nc\n",
      "s3://podaac-ops-cumulus-protected/RAMSSA_09km-ABOM-L4-AUS-v01/20220717120000-ABOM-L4_GHRSST-SSTfnd-RAMSSA_09km-AUS-v02.0-fv01.0.nc\n",
      "s3://podaac-ops-cumulus-protected/RAMSSA_09km-ABOM-L4-AUS-v01/20220718120000-ABOM-L4_GHRSST-SSTfnd-RAMSSA_09km-AUS-v02.0-fv01.0.nc\n",
      "s3://podaac-ops-cumulus-protected/REYNOLDS_NCDC_L4_MONTHLY_V5/ersst.v5.202207.nc\n"
     ]
    }
   ],
   "source": [
    "granule_URLs = cmr_query.query_granules_by_shortname(\n",
    "                            shortnames=shortnames, \n",
    "                            provider=\"POCLOUD\", \n",
    "                            temporal_range=\"2022-07-18T00:00:00Z,2022-07-18T23:59:59Z\")\n",
    "\n",
    "for g in granule_URLs:\n",
    "    print(g)"
   ]
  },
  {
   "cell_type": "code",
   "execution_count": null,
   "metadata": {},
   "outputs": [],
   "source": [
    "# NEED TO ADD A BLOCK THAT COPIES GRANULES TO USER S3 BUCKET\n",
    "\n",
    "\n",
    "\n",
    "# Below here is the lambda code"
   ]
  },
  {
   "cell_type": "code",
   "execution_count": 16,
   "metadata": {},
   "outputs": [],
   "source": [
    "import requests\n",
    "import s3fs\n",
    "import xarray as xr\n",
    "import numpy as np\n",
    "import h5netcdf # don't actually need to import but must be installed\n",
    "\n",
    "s3_cred_endpoint = {\n",
    "    'podaac':'https://archive.podaac.earthdata.nasa.gov/s3credentials'\n",
    "}\n",
    "\n",
    "def get_temp_creds(provider):\n",
    "    return requests.get(s3_cred_endpoint[provider]).json()\n",
    "\n",
    "temp_creds_req = get_temp_creds('podaac')\n",
    "\n",
    "s3_client = s3fs.S3FileSystem(\n",
    "        anon=False, \n",
    "        key=temp_creds_req['accessKeyId'], \n",
    "        secret=temp_creds_req['secretAccessKey'], \n",
    "        token=temp_creds_req['sessionToken']\n",
    "    )\n"
   ]
  },
  {
   "cell_type": "code",
   "execution_count": 17,
   "metadata": {},
   "outputs": [],
   "source": [
    "def regrid(data_in, resolution=2):\n",
    "    \"\"\"\n",
    "    Resample the global SST data specified in data_in\n",
    "\n",
    "    Parameters\n",
    "    ==========\n",
    "    data_in: ndarray xarray with dimension (lat, lon)\n",
    "             Sea surface temperature\n",
    "    resolution: scalar\n",
    "             the output resolution, default at 1-degree\n",
    "\n",
    "    Return\n",
    "    ======\n",
    "    data_out: ndarray, xarray\n",
    "             the resmapled SST at the specified resolution\n",
    "    \"\"\"\n",
    "    \n",
    "    return data_in.interp(lat=np.arange(-90,90,resolution)).interp(lon=np.arange(-180,180,resolution))"
   ]
  },
  {
   "cell_type": "code",
   "execution_count": 19,
   "metadata": {},
   "outputs": [],
   "source": [
    "#def lambda_handler(event, context):\n",
    "    \n",
    "    # get the bucket and key of the current granule\n",
    "    # bucket = event['Records'][0]['s3']['bucket']['name']\n",
    "    # key = urllib.parse.unquote_plus(event['Records'][0]['s3']['object']['key'], encoding='utf-8')\n",
    "    \n",
    "    # s3_file_obj = s3_client.open('s3://' + bucket + key, mode='rb')\n",
    "    \n",
    "def lambda_handler(key):\n",
    "\n",
    "    # open the granule as an s3 obj\n",
    "    s3_file_obj = s3_client.open(key, mode='rb')\n",
    "        \n",
    "    # open in in xarray\n",
    "    ds = xr.open_dataset(s3_file_obj, engine='h5netcdf')\n",
    "        \n",
    "    # process the function\n",
    "    ds_results = regrid(ds)\n",
    "        \n",
    "    # create the temp path to write results to\n",
    "    tmp_file_path = '/tmp/' + key[-3] + '_regrid.nc'\n",
    "        \n",
    "    # write the results to a new netcdf file\n",
    "    ds_results.to_netcdf(tmp_file_path, mode='w')\n",
    "    \n",
    "    # put the results back in the same bucket\n",
    "    # result_bucket = 's3://' + bucket + key\n",
    "    \n",
    "    # send back to the s3 bucket\n",
    "    # s3_file_obj_new = s3_client.put(tmp_file_path, result_bucket)\n",
    "    \n",
    "    print(ds_results)"
   ]
  },
  {
   "cell_type": "code",
   "execution_count": 20,
   "metadata": {},
   "outputs": [
    {
     "ename": "NameError",
     "evalue": "name 'bucket' is not defined",
     "output_type": "error",
     "traceback": [
      "\u001b[0;31m---------------------------------------------------------------------------\u001b[0m",
      "\u001b[0;31mNameError\u001b[0m                                 Traceback (most recent call last)",
      "Cell \u001b[0;32mIn[20], line 5\u001b[0m\n\u001b[1;32m      1\u001b[0m \u001b[38;5;66;03m# test the function\u001b[39;00m\n\u001b[1;32m      3\u001b[0m gran \u001b[38;5;241m=\u001b[39m \u001b[38;5;124m\"\u001b[39m\u001b[38;5;124ms3://podaac-ops-cumulus-protected/REYNOLDS_NCDC_L4_MONTHLY_V5/ersst.v5.202207.nc\u001b[39m\u001b[38;5;124m\"\u001b[39m\n\u001b[0;32m----> 5\u001b[0m r \u001b[38;5;241m=\u001b[39m \u001b[43mlambda_handler\u001b[49m\u001b[43m(\u001b[49m\u001b[43mgran\u001b[49m\u001b[43m)\u001b[49m\n",
      "Cell \u001b[0;32mIn[19], line 27\u001b[0m, in \u001b[0;36mlambda_handler\u001b[0;34m(key)\u001b[0m\n\u001b[1;32m     24\u001b[0m ds_results\u001b[38;5;241m.\u001b[39mto_netcdf(tmp_file_path, mode\u001b[38;5;241m=\u001b[39m\u001b[38;5;124m'\u001b[39m\u001b[38;5;124mw\u001b[39m\u001b[38;5;124m'\u001b[39m)\n\u001b[1;32m     26\u001b[0m \u001b[38;5;66;03m# put the results back in the same bucket\u001b[39;00m\n\u001b[0;32m---> 27\u001b[0m result_bucket \u001b[38;5;241m=\u001b[39m \u001b[38;5;124m'\u001b[39m\u001b[38;5;124ms3://\u001b[39m\u001b[38;5;124m'\u001b[39m \u001b[38;5;241m+\u001b[39m \u001b[43mbucket\u001b[49m \u001b[38;5;241m+\u001b[39m key\n\u001b[1;32m     29\u001b[0m \u001b[38;5;66;03m# send back to the s3 bucket\u001b[39;00m\n\u001b[1;32m     30\u001b[0m s3_file_obj_new \u001b[38;5;241m=\u001b[39m s3_client\u001b[38;5;241m.\u001b[39mput(tmp_file_path, result_bucket)\n",
      "\u001b[0;31mNameError\u001b[0m: name 'bucket' is not defined"
     ]
    }
   ],
   "source": [
    "# test the function\n",
    "\n",
    "gran = \"s3://podaac-ops-cumulus-protected/REYNOLDS_NCDC_L4_MONTHLY_V5/ersst.v5.202207.nc\"\n",
    "\n",
    "r = lambda_handler(gran)"
   ]
  },
  {
   "cell_type": "markdown",
   "metadata": {},
   "source": [
    "### clean up and delete token"
   ]
  },
  {
   "cell_type": "code",
   "execution_count": null,
   "metadata": {},
   "outputs": [],
   "source": [
    "cmr_query.delete_token()"
   ]
  }
 ],
 "metadata": {
  "kernelspec": {
   "display_name": "Python 3",
   "language": "python",
   "name": "python3"
  },
  "language_info": {
   "codemirror_mode": {
    "name": "ipython",
    "version": 3
   },
   "file_extension": ".py",
   "mimetype": "text/x-python",
   "name": "python",
   "nbconvert_exporter": "python",
   "pygments_lexer": "ipython3",
   "version": "3.9.13"
  },
  "vscode": {
   "interpreter": {
    "hash": "32a40736d00c188d2effbb1afc97ba7e733733270c902b4998c089acce9c970f"
   }
  }
 },
 "nbformat": 4,
 "nbformat_minor": 4
}
