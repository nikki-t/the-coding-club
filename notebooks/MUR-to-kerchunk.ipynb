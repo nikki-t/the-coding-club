{
 "cells": [
  {
   "cell_type": "markdown",
   "metadata": {},
   "source": [
    "# MUR Kerchunk  \n",
    "### Author: Edward Armstrong \n",
    "#### 2022-04-25\n",
    "\n",
    "\n",
    "\n",
    "### Objective:\n",
    "\n",
    "Apply and adapt Kerchunk to the MUR SST dataset for fast time series analysis using xarray\n",
    "* Adapted from 2022 ESIP Summmer Meeting Kerchunk tutorial by Lucas Sterzinger, https://github.com/lsterzinger/2022-esip-kerchunk-tutorial"
   ]
  },
  {
   "cell_type": "markdown",
   "metadata": {},
   "source": [
    "_If Kerchunk is not >= 0.0.7 version, update with pip/conda: and **restart the kernel**_"
   ]
  },
  {
   "cell_type": "code",
   "execution_count": 3,
   "metadata": {},
   "outputs": [
    {
     "data": {
      "text/plain": [
       "'0.0.8'"
      ]
     },
     "execution_count": 3,
     "metadata": {},
     "output_type": "execute_result"
    }
   ],
   "source": [
    "import kerchunk\n",
    "kerchunk.__version__"
   ]
  },
  {
   "cell_type": "code",
   "execution_count": 4,
   "metadata": {},
   "outputs": [],
   "source": [
    "import xarray as xr\n",
    "from kerchunk.hdf import SingleHdf5ToZarr\n",
    "from kerchunk.combine import MultiZarrToZarr\n",
    "import fsspec\n",
    "from glob import glob\n",
    "import requests"
   ]
  },
  {
   "cell_type": "code",
   "execution_count": 5,
   "metadata": {},
   "outputs": [],
   "source": [
    "s3_cred_endpoint = {\n",
    "    'podaac':'https://archive.podaac.earthdata.nasa.gov/s3credentials',\n",
    "    'lpdaac':'https://data.lpdaac.earthdatacloud.nasa.gov/s3credentials',\n",
    "    'ornldaac':'https://data.ornldaac.earthdata.nasa.gov/s3credentials',\n",
    "    'gesdisc':'https://data.gesdisc.earthdata.nasa.gov/s3credentials'\n",
    "}"
   ]
  },
  {
   "cell_type": "code",
   "execution_count": 6,
   "metadata": {},
   "outputs": [],
   "source": [
    "def get_temp_creds():\n",
    "    temp_creds_url = s3_cred_endpoint['podaac']\n",
    "    return requests.get(temp_creds_url).json()"
   ]
  },
  {
   "cell_type": "code",
   "execution_count": 7,
   "metadata": {},
   "outputs": [
    {
     "data": {
      "text/plain": [
       "{'accessKeyId': 'xxxx',\n",
       " 'secretAccessKey': 'xxxx',\n",
       " 'sessionToken': 'xxxx',\n",
       " 'expiration': '2022-10-12 00:30:03+00:00'}"
      ]
     },
     "execution_count": 7,
     "metadata": {},
     "output_type": "execute_result"
    }
   ],
   "source": [
    "temp_creds = get_temp_creds()\n",
    "temp_creds"
   ]
  },
  {
   "cell_type": "markdown",
   "metadata": {},
   "source": [
    "## `fsspec` -- What is it?\n",
    "* Provides unified interface to different filesystem types\n",
    "* Local, cloud, http, dropbox, Google Drive, etc\n",
    "    * All accessible with the same API"
   ]
  },
  {
   "cell_type": "code",
   "execution_count": 8,
   "metadata": {},
   "outputs": [
    {
     "data": {
      "text/plain": [
       "dict_keys(['file', 'memory', 'dropbox', 'http', 'https', 'zip', 'tar', 'gcs', 'gs', 'gdrive', 'sftp', 'ssh', 'ftp', 'hdfs', 'arrow_hdfs', 'webhdfs', 's3', 's3a', 'wandb', 'oci', 'adl', 'abfs', 'az', 'cached', 'blockcache', 'filecache', 'simplecache', 'dask', 'dbfs', 'github', 'git', 'smb', 'jupyter', 'jlab', 'libarchive', 'reference', 'generic', 'oss', 'webdav'])"
      ]
     },
     "execution_count": 8,
     "metadata": {},
     "output_type": "execute_result"
    }
   ],
   "source": [
    "from fsspec.registry import known_implementations\n",
    "known_implementations.keys()"
   ]
  },
  {
   "cell_type": "markdown",
   "metadata": {},
   "source": [
    "### Open a new filesystem, of type `s3` (Amazon Web Services storage)\n",
    "This tells `fsspec` what type of storage system to use (AWS S3) and authenticate with credentials"
   ]
  },
  {
   "cell_type": "code",
   "execution_count": 9,
   "metadata": {},
   "outputs": [],
   "source": [
    "fs = fsspec.filesystem('s3', anon=False, \n",
    "                    key=temp_creds['accessKeyId'],\n",
    "                    secret=temp_creds['secretAccessKey'],\n",
    "                    token=temp_creds['sessionToken'])"
   ]
  },
  {
   "cell_type": "code",
   "execution_count": 12,
   "metadata": {},
   "outputs": [],
   "source": [
    "#s3path = 's3://podaac-ops-cumulus-protected/MUR-JPL-L4-GLOB-v4.1/2021121[0-5]*nc'\n",
    "s3path = 's3://podaac-ops-cumulus-protected/MUR25-JPL-L4-GLOB-v04.2/202012*nc'\n",
    "\n",
    "flist = fs.glob(s3path)"
   ]
  },
  {
   "cell_type": "markdown",
   "metadata": {},
   "source": [
    "### Prepend `s3://` to the URLS"
   ]
  },
  {
   "cell_type": "code",
   "execution_count": 13,
   "metadata": {},
   "outputs": [
    {
     "data": {
      "text/plain": [
       "['s3://podaac-ops-cumulus-protected/MUR25-JPL-L4-GLOB-v04.2/20201201090000-JPL-L4_GHRSST-SSTfnd-MUR25-GLOB-v02.0-fv04.2.nc',\n",
       " 's3://podaac-ops-cumulus-protected/MUR25-JPL-L4-GLOB-v04.2/20201202090000-JPL-L4_GHRSST-SSTfnd-MUR25-GLOB-v02.0-fv04.2.nc',\n",
       " 's3://podaac-ops-cumulus-protected/MUR25-JPL-L4-GLOB-v04.2/20201203090000-JPL-L4_GHRSST-SSTfnd-MUR25-GLOB-v02.0-fv04.2.nc',\n",
       " 's3://podaac-ops-cumulus-protected/MUR25-JPL-L4-GLOB-v04.2/20201204090000-JPL-L4_GHRSST-SSTfnd-MUR25-GLOB-v02.0-fv04.2.nc',\n",
       " 's3://podaac-ops-cumulus-protected/MUR25-JPL-L4-GLOB-v04.2/20201205090000-JPL-L4_GHRSST-SSTfnd-MUR25-GLOB-v02.0-fv04.2.nc',\n",
       " 's3://podaac-ops-cumulus-protected/MUR25-JPL-L4-GLOB-v04.2/20201206090000-JPL-L4_GHRSST-SSTfnd-MUR25-GLOB-v02.0-fv04.2.nc',\n",
       " 's3://podaac-ops-cumulus-protected/MUR25-JPL-L4-GLOB-v04.2/20201207090000-JPL-L4_GHRSST-SSTfnd-MUR25-GLOB-v02.0-fv04.2.nc',\n",
       " 's3://podaac-ops-cumulus-protected/MUR25-JPL-L4-GLOB-v04.2/20201208090000-JPL-L4_GHRSST-SSTfnd-MUR25-GLOB-v02.0-fv04.2.nc',\n",
       " 's3://podaac-ops-cumulus-protected/MUR25-JPL-L4-GLOB-v04.2/20201209090000-JPL-L4_GHRSST-SSTfnd-MUR25-GLOB-v02.0-fv04.2.nc',\n",
       " 's3://podaac-ops-cumulus-protected/MUR25-JPL-L4-GLOB-v04.2/20201210090000-JPL-L4_GHRSST-SSTfnd-MUR25-GLOB-v02.0-fv04.2.nc',\n",
       " 's3://podaac-ops-cumulus-protected/MUR25-JPL-L4-GLOB-v04.2/20201211090000-JPL-L4_GHRSST-SSTfnd-MUR25-GLOB-v02.0-fv04.2.nc',\n",
       " 's3://podaac-ops-cumulus-protected/MUR25-JPL-L4-GLOB-v04.2/20201212090000-JPL-L4_GHRSST-SSTfnd-MUR25-GLOB-v02.0-fv04.2.nc',\n",
       " 's3://podaac-ops-cumulus-protected/MUR25-JPL-L4-GLOB-v04.2/20201213090000-JPL-L4_GHRSST-SSTfnd-MUR25-GLOB-v02.0-fv04.2.nc',\n",
       " 's3://podaac-ops-cumulus-protected/MUR25-JPL-L4-GLOB-v04.2/20201214090000-JPL-L4_GHRSST-SSTfnd-MUR25-GLOB-v02.0-fv04.2.nc',\n",
       " 's3://podaac-ops-cumulus-protected/MUR25-JPL-L4-GLOB-v04.2/20201215090000-JPL-L4_GHRSST-SSTfnd-MUR25-GLOB-v02.0-fv04.2.nc',\n",
       " 's3://podaac-ops-cumulus-protected/MUR25-JPL-L4-GLOB-v04.2/20201216090000-JPL-L4_GHRSST-SSTfnd-MUR25-GLOB-v02.0-fv04.2.nc',\n",
       " 's3://podaac-ops-cumulus-protected/MUR25-JPL-L4-GLOB-v04.2/20201217090000-JPL-L4_GHRSST-SSTfnd-MUR25-GLOB-v02.0-fv04.2.nc',\n",
       " 's3://podaac-ops-cumulus-protected/MUR25-JPL-L4-GLOB-v04.2/20201218090000-JPL-L4_GHRSST-SSTfnd-MUR25-GLOB-v02.0-fv04.2.nc',\n",
       " 's3://podaac-ops-cumulus-protected/MUR25-JPL-L4-GLOB-v04.2/20201219090000-JPL-L4_GHRSST-SSTfnd-MUR25-GLOB-v02.0-fv04.2.nc',\n",
       " 's3://podaac-ops-cumulus-protected/MUR25-JPL-L4-GLOB-v04.2/20201220090000-JPL-L4_GHRSST-SSTfnd-MUR25-GLOB-v02.0-fv04.2.nc',\n",
       " 's3://podaac-ops-cumulus-protected/MUR25-JPL-L4-GLOB-v04.2/20201221090000-JPL-L4_GHRSST-SSTfnd-MUR25-GLOB-v02.0-fv04.2.nc',\n",
       " 's3://podaac-ops-cumulus-protected/MUR25-JPL-L4-GLOB-v04.2/20201222090000-JPL-L4_GHRSST-SSTfnd-MUR25-GLOB-v02.0-fv04.2.nc',\n",
       " 's3://podaac-ops-cumulus-protected/MUR25-JPL-L4-GLOB-v04.2/20201223090000-JPL-L4_GHRSST-SSTfnd-MUR25-GLOB-v02.0-fv04.2.nc',\n",
       " 's3://podaac-ops-cumulus-protected/MUR25-JPL-L4-GLOB-v04.2/20201224090000-JPL-L4_GHRSST-SSTfnd-MUR25-GLOB-v02.0-fv04.2.nc',\n",
       " 's3://podaac-ops-cumulus-protected/MUR25-JPL-L4-GLOB-v04.2/20201225090000-JPL-L4_GHRSST-SSTfnd-MUR25-GLOB-v02.0-fv04.2.nc',\n",
       " 's3://podaac-ops-cumulus-protected/MUR25-JPL-L4-GLOB-v04.2/20201226090000-JPL-L4_GHRSST-SSTfnd-MUR25-GLOB-v02.0-fv04.2.nc',\n",
       " 's3://podaac-ops-cumulus-protected/MUR25-JPL-L4-GLOB-v04.2/20201227090000-JPL-L4_GHRSST-SSTfnd-MUR25-GLOB-v02.0-fv04.2.nc',\n",
       " 's3://podaac-ops-cumulus-protected/MUR25-JPL-L4-GLOB-v04.2/20201228090000-JPL-L4_GHRSST-SSTfnd-MUR25-GLOB-v02.0-fv04.2.nc',\n",
       " 's3://podaac-ops-cumulus-protected/MUR25-JPL-L4-GLOB-v04.2/20201229090000-JPL-L4_GHRSST-SSTfnd-MUR25-GLOB-v02.0-fv04.2.nc',\n",
       " 's3://podaac-ops-cumulus-protected/MUR25-JPL-L4-GLOB-v04.2/20201230090000-JPL-L4_GHRSST-SSTfnd-MUR25-GLOB-v02.0-fv04.2.nc',\n",
       " 's3://podaac-ops-cumulus-protected/MUR25-JPL-L4-GLOB-v04.2/20201231090000-JPL-L4_GHRSST-SSTfnd-MUR25-GLOB-v02.0-fv04.2.nc']"
      ]
     },
     "execution_count": 13,
     "metadata": {},
     "output_type": "execute_result"
    }
   ],
   "source": [
    "flist = ['s3://' + f for f in flist]\n",
    "flist"
   ]
  },
  {
   "cell_type": "markdown",
   "metadata": {},
   "source": [
    "## Example of creating a single kerchunk reference"
   ]
  },
  {
   "cell_type": "code",
   "execution_count": 14,
   "metadata": {},
   "outputs": [
    {
     "data": {
      "text/plain": [
       "'s3://podaac-ops-cumulus-protected/MUR25-JPL-L4-GLOB-v04.2/20201201090000-JPL-L4_GHRSST-SSTfnd-MUR25-GLOB-v02.0-fv04.2.nc'"
      ]
     },
     "execution_count": 14,
     "metadata": {},
     "output_type": "execute_result"
    }
   ],
   "source": [
    "u = flist[0]\n",
    "u"
   ]
  },
  {
   "cell_type": "code",
   "execution_count": 15,
   "metadata": {},
   "outputs": [],
   "source": [
    "with fsspec.open(u, mode=\"rb\", anon=False,\n",
    "                    key=temp_creds['accessKeyId'],\n",
    "                    secret=temp_creds['secretAccessKey'],\n",
    "                    token=temp_creds['sessionToken']) as infile:\n",
    "                    single = SingleHdf5ToZarr(infile, u, inline_threshold=1000000).translate()"
   ]
  },
  {
   "cell_type": "code",
   "execution_count": 16,
   "metadata": {
    "tags": []
   },
   "outputs": [],
   "source": [
    "#single"
   ]
  },
  {
   "cell_type": "markdown",
   "metadata": {},
   "source": [
    "## Create references for all files in `flist` and package to single output "
   ]
  },
  {
   "cell_type": "code",
   "execution_count": 17,
   "metadata": {},
   "outputs": [],
   "source": [
    "singles = []\n",
    "for u in flist:\n",
    "    with fsspec.open(u, mode=\"rb\", anon=False, \n",
    "                    key=temp_creds['accessKeyId'],\n",
    "                    secret=temp_creds['secretAccessKey'],\n",
    "                    token=temp_creds['sessionToken']) as inf:\n",
    "                    single = SingleHdf5ToZarr(inf, u, inline_threshold=1000000)\n",
    "                    singles.append(single.translate())"
   ]
  },
  {
   "cell_type": "code",
   "execution_count": 18,
   "metadata": {},
   "outputs": [],
   "source": [
    "mzz = MultiZarrToZarr(\n",
    "    singles,\n",
    "    remote_protocol=\"s3\",\n",
    "    remote_options={'anon': True},\n",
    "    concat_dims=['time'],\n",
    "    identical_dims=['lon', 'lat']\n",
    ")\n",
    "\n",
    "out = mzz.translate()"
   ]
  },
  {
   "cell_type": "code",
   "execution_count": 19,
   "metadata": {},
   "outputs": [],
   "source": [
    "#out"
   ]
  },
  {
   "cell_type": "markdown",
   "metadata": {},
   "source": [
    "## Read the entire array via xarray"
   ]
  },
  {
   "cell_type": "code",
   "execution_count": 20,
   "metadata": {},
   "outputs": [],
   "source": [
    "import xarray as xr\n",
    "ds = xr.open_dataset(\n",
    "    \"reference://\", engine=\"zarr\", \n",
    "    backend_kwargs={\n",
    "        \"storage_options\": {\n",
    "            \"fo\": out,\n",
    "            \"remote_protocol\": \"s3\",\n",
    "            \"remote_options\": {\"anon\": True}\n",
    "        },\n",
    "        \"consolidated\": False\n",
    "    }\n",
    ")"
   ]
  },
  {
   "cell_type": "code",
   "execution_count": 21,
   "metadata": {},
   "outputs": [
    {
     "data": {
      "text/html": [
       "<div><svg style=\"position: absolute; width: 0; height: 0; overflow: hidden\">\n",
       "<defs>\n",
       "<symbol id=\"icon-database\" viewBox=\"0 0 32 32\">\n",
       "<path d=\"M16 0c-8.837 0-16 2.239-16 5v4c0 2.761 7.163 5 16 5s16-2.239 16-5v-4c0-2.761-7.163-5-16-5z\"></path>\n",
       "<path d=\"M16 17c-8.837 0-16-2.239-16-5v6c0 2.761 7.163 5 16 5s16-2.239 16-5v-6c0 2.761-7.163 5-16 5z\"></path>\n",
       "<path d=\"M16 26c-8.837 0-16-2.239-16-5v6c0 2.761 7.163 5 16 5s16-2.239 16-5v-6c0 2.761-7.163 5-16 5z\"></path>\n",
       "</symbol>\n",
       "<symbol id=\"icon-file-text2\" viewBox=\"0 0 32 32\">\n",
       "<path d=\"M28.681 7.159c-0.694-0.947-1.662-2.053-2.724-3.116s-2.169-2.030-3.116-2.724c-1.612-1.182-2.393-1.319-2.841-1.319h-15.5c-1.378 0-2.5 1.121-2.5 2.5v27c0 1.378 1.122 2.5 2.5 2.5h23c1.378 0 2.5-1.122 2.5-2.5v-19.5c0-0.448-0.137-1.23-1.319-2.841zM24.543 5.457c0.959 0.959 1.712 1.825 2.268 2.543h-4.811v-4.811c0.718 0.556 1.584 1.309 2.543 2.268zM28 29.5c0 0.271-0.229 0.5-0.5 0.5h-23c-0.271 0-0.5-0.229-0.5-0.5v-27c0-0.271 0.229-0.5 0.5-0.5 0 0 15.499-0 15.5 0v7c0 0.552 0.448 1 1 1h7v19.5z\"></path>\n",
       "<path d=\"M23 26h-14c-0.552 0-1-0.448-1-1s0.448-1 1-1h14c0.552 0 1 0.448 1 1s-0.448 1-1 1z\"></path>\n",
       "<path d=\"M23 22h-14c-0.552 0-1-0.448-1-1s0.448-1 1-1h14c0.552 0 1 0.448 1 1s-0.448 1-1 1z\"></path>\n",
       "<path d=\"M23 18h-14c-0.552 0-1-0.448-1-1s0.448-1 1-1h14c0.552 0 1 0.448 1 1s-0.448 1-1 1z\"></path>\n",
       "</symbol>\n",
       "</defs>\n",
       "</svg>\n",
       "<style>/* CSS stylesheet for displaying xarray objects in jupyterlab.\n",
       " *\n",
       " */\n",
       "\n",
       ":root {\n",
       "  --xr-font-color0: var(--jp-content-font-color0, rgba(0, 0, 0, 1));\n",
       "  --xr-font-color2: var(--jp-content-font-color2, rgba(0, 0, 0, 0.54));\n",
       "  --xr-font-color3: var(--jp-content-font-color3, rgba(0, 0, 0, 0.38));\n",
       "  --xr-border-color: var(--jp-border-color2, #e0e0e0);\n",
       "  --xr-disabled-color: var(--jp-layout-color3, #bdbdbd);\n",
       "  --xr-background-color: var(--jp-layout-color0, white);\n",
       "  --xr-background-color-row-even: var(--jp-layout-color1, white);\n",
       "  --xr-background-color-row-odd: var(--jp-layout-color2, #eeeeee);\n",
       "}\n",
       "\n",
       "html[theme=dark],\n",
       "body.vscode-dark {\n",
       "  --xr-font-color0: rgba(255, 255, 255, 1);\n",
       "  --xr-font-color2: rgba(255, 255, 255, 0.54);\n",
       "  --xr-font-color3: rgba(255, 255, 255, 0.38);\n",
       "  --xr-border-color: #1F1F1F;\n",
       "  --xr-disabled-color: #515151;\n",
       "  --xr-background-color: #111111;\n",
       "  --xr-background-color-row-even: #111111;\n",
       "  --xr-background-color-row-odd: #313131;\n",
       "}\n",
       "\n",
       ".xr-wrap {\n",
       "  display: block !important;\n",
       "  min-width: 300px;\n",
       "  max-width: 700px;\n",
       "}\n",
       "\n",
       ".xr-text-repr-fallback {\n",
       "  /* fallback to plain text repr when CSS is not injected (untrusted notebook) */\n",
       "  display: none;\n",
       "}\n",
       "\n",
       ".xr-header {\n",
       "  padding-top: 6px;\n",
       "  padding-bottom: 6px;\n",
       "  margin-bottom: 4px;\n",
       "  border-bottom: solid 1px var(--xr-border-color);\n",
       "}\n",
       "\n",
       ".xr-header > div,\n",
       ".xr-header > ul {\n",
       "  display: inline;\n",
       "  margin-top: 0;\n",
       "  margin-bottom: 0;\n",
       "}\n",
       "\n",
       ".xr-obj-type,\n",
       ".xr-array-name {\n",
       "  margin-left: 2px;\n",
       "  margin-right: 10px;\n",
       "}\n",
       "\n",
       ".xr-obj-type {\n",
       "  color: var(--xr-font-color2);\n",
       "}\n",
       "\n",
       ".xr-sections {\n",
       "  padding-left: 0 !important;\n",
       "  display: grid;\n",
       "  grid-template-columns: 150px auto auto 1fr 20px 20px;\n",
       "}\n",
       "\n",
       ".xr-section-item {\n",
       "  display: contents;\n",
       "}\n",
       "\n",
       ".xr-section-item input {\n",
       "  display: none;\n",
       "}\n",
       "\n",
       ".xr-section-item input + label {\n",
       "  color: var(--xr-disabled-color);\n",
       "}\n",
       "\n",
       ".xr-section-item input:enabled + label {\n",
       "  cursor: pointer;\n",
       "  color: var(--xr-font-color2);\n",
       "}\n",
       "\n",
       ".xr-section-item input:enabled + label:hover {\n",
       "  color: var(--xr-font-color0);\n",
       "}\n",
       "\n",
       ".xr-section-summary {\n",
       "  grid-column: 1;\n",
       "  color: var(--xr-font-color2);\n",
       "  font-weight: 500;\n",
       "}\n",
       "\n",
       ".xr-section-summary > span {\n",
       "  display: inline-block;\n",
       "  padding-left: 0.5em;\n",
       "}\n",
       "\n",
       ".xr-section-summary-in:disabled + label {\n",
       "  color: var(--xr-font-color2);\n",
       "}\n",
       "\n",
       ".xr-section-summary-in + label:before {\n",
       "  display: inline-block;\n",
       "  content: '►';\n",
       "  font-size: 11px;\n",
       "  width: 15px;\n",
       "  text-align: center;\n",
       "}\n",
       "\n",
       ".xr-section-summary-in:disabled + label:before {\n",
       "  color: var(--xr-disabled-color);\n",
       "}\n",
       "\n",
       ".xr-section-summary-in:checked + label:before {\n",
       "  content: '▼';\n",
       "}\n",
       "\n",
       ".xr-section-summary-in:checked + label > span {\n",
       "  display: none;\n",
       "}\n",
       "\n",
       ".xr-section-summary,\n",
       ".xr-section-inline-details {\n",
       "  padding-top: 4px;\n",
       "  padding-bottom: 4px;\n",
       "}\n",
       "\n",
       ".xr-section-inline-details {\n",
       "  grid-column: 2 / -1;\n",
       "}\n",
       "\n",
       ".xr-section-details {\n",
       "  display: none;\n",
       "  grid-column: 1 / -1;\n",
       "  margin-bottom: 5px;\n",
       "}\n",
       "\n",
       ".xr-section-summary-in:checked ~ .xr-section-details {\n",
       "  display: contents;\n",
       "}\n",
       "\n",
       ".xr-array-wrap {\n",
       "  grid-column: 1 / -1;\n",
       "  display: grid;\n",
       "  grid-template-columns: 20px auto;\n",
       "}\n",
       "\n",
       ".xr-array-wrap > label {\n",
       "  grid-column: 1;\n",
       "  vertical-align: top;\n",
       "}\n",
       "\n",
       ".xr-preview {\n",
       "  color: var(--xr-font-color3);\n",
       "}\n",
       "\n",
       ".xr-array-preview,\n",
       ".xr-array-data {\n",
       "  padding: 0 5px !important;\n",
       "  grid-column: 2;\n",
       "}\n",
       "\n",
       ".xr-array-data,\n",
       ".xr-array-in:checked ~ .xr-array-preview {\n",
       "  display: none;\n",
       "}\n",
       "\n",
       ".xr-array-in:checked ~ .xr-array-data,\n",
       ".xr-array-preview {\n",
       "  display: inline-block;\n",
       "}\n",
       "\n",
       ".xr-dim-list {\n",
       "  display: inline-block !important;\n",
       "  list-style: none;\n",
       "  padding: 0 !important;\n",
       "  margin: 0;\n",
       "}\n",
       "\n",
       ".xr-dim-list li {\n",
       "  display: inline-block;\n",
       "  padding: 0;\n",
       "  margin: 0;\n",
       "}\n",
       "\n",
       ".xr-dim-list:before {\n",
       "  content: '(';\n",
       "}\n",
       "\n",
       ".xr-dim-list:after {\n",
       "  content: ')';\n",
       "}\n",
       "\n",
       ".xr-dim-list li:not(:last-child):after {\n",
       "  content: ',';\n",
       "  padding-right: 5px;\n",
       "}\n",
       "\n",
       ".xr-has-index {\n",
       "  font-weight: bold;\n",
       "}\n",
       "\n",
       ".xr-var-list,\n",
       ".xr-var-item {\n",
       "  display: contents;\n",
       "}\n",
       "\n",
       ".xr-var-item > div,\n",
       ".xr-var-item label,\n",
       ".xr-var-item > .xr-var-name span {\n",
       "  background-color: var(--xr-background-color-row-even);\n",
       "  margin-bottom: 0;\n",
       "}\n",
       "\n",
       ".xr-var-item > .xr-var-name:hover span {\n",
       "  padding-right: 5px;\n",
       "}\n",
       "\n",
       ".xr-var-list > li:nth-child(odd) > div,\n",
       ".xr-var-list > li:nth-child(odd) > label,\n",
       ".xr-var-list > li:nth-child(odd) > .xr-var-name span {\n",
       "  background-color: var(--xr-background-color-row-odd);\n",
       "}\n",
       "\n",
       ".xr-var-name {\n",
       "  grid-column: 1;\n",
       "}\n",
       "\n",
       ".xr-var-dims {\n",
       "  grid-column: 2;\n",
       "}\n",
       "\n",
       ".xr-var-dtype {\n",
       "  grid-column: 3;\n",
       "  text-align: right;\n",
       "  color: var(--xr-font-color2);\n",
       "}\n",
       "\n",
       ".xr-var-preview {\n",
       "  grid-column: 4;\n",
       "}\n",
       "\n",
       ".xr-var-name,\n",
       ".xr-var-dims,\n",
       ".xr-var-dtype,\n",
       ".xr-preview,\n",
       ".xr-attrs dt {\n",
       "  white-space: nowrap;\n",
       "  overflow: hidden;\n",
       "  text-overflow: ellipsis;\n",
       "  padding-right: 10px;\n",
       "}\n",
       "\n",
       ".xr-var-name:hover,\n",
       ".xr-var-dims:hover,\n",
       ".xr-var-dtype:hover,\n",
       ".xr-attrs dt:hover {\n",
       "  overflow: visible;\n",
       "  width: auto;\n",
       "  z-index: 1;\n",
       "}\n",
       "\n",
       ".xr-var-attrs,\n",
       ".xr-var-data {\n",
       "  display: none;\n",
       "  background-color: var(--xr-background-color) !important;\n",
       "  padding-bottom: 5px !important;\n",
       "}\n",
       "\n",
       ".xr-var-attrs-in:checked ~ .xr-var-attrs,\n",
       ".xr-var-data-in:checked ~ .xr-var-data {\n",
       "  display: block;\n",
       "}\n",
       "\n",
       ".xr-var-data > table {\n",
       "  float: right;\n",
       "}\n",
       "\n",
       ".xr-var-name span,\n",
       ".xr-var-data,\n",
       ".xr-attrs {\n",
       "  padding-left: 25px !important;\n",
       "}\n",
       "\n",
       ".xr-attrs,\n",
       ".xr-var-attrs,\n",
       ".xr-var-data {\n",
       "  grid-column: 1 / -1;\n",
       "}\n",
       "\n",
       "dl.xr-attrs {\n",
       "  padding: 0;\n",
       "  margin: 0;\n",
       "  display: grid;\n",
       "  grid-template-columns: 125px auto;\n",
       "}\n",
       "\n",
       ".xr-attrs dt,\n",
       ".xr-attrs dd {\n",
       "  padding: 0;\n",
       "  margin: 0;\n",
       "  float: left;\n",
       "  padding-right: 10px;\n",
       "  width: auto;\n",
       "}\n",
       "\n",
       ".xr-attrs dt {\n",
       "  font-weight: normal;\n",
       "  grid-column: 1;\n",
       "}\n",
       "\n",
       ".xr-attrs dt:hover span {\n",
       "  display: inline-block;\n",
       "  background: var(--xr-background-color);\n",
       "  padding-right: 10px;\n",
       "}\n",
       "\n",
       ".xr-attrs dd {\n",
       "  grid-column: 2;\n",
       "  white-space: pre-wrap;\n",
       "  word-break: break-all;\n",
       "}\n",
       "\n",
       ".xr-icon-database,\n",
       ".xr-icon-file-text2 {\n",
       "  display: inline-block;\n",
       "  vertical-align: middle;\n",
       "  width: 1em;\n",
       "  height: 1.5em !important;\n",
       "  stroke-width: 0;\n",
       "  stroke: currentColor;\n",
       "  fill: currentColor;\n",
       "}\n",
       "</style><pre class='xr-text-repr-fallback'>&lt;xarray.Dataset&gt;\n",
       "Dimensions:           (time: 31, lat: 720, lon: 1440)\n",
       "Coordinates:\n",
       "  * lat               (lat) float32 -89.88 -89.62 -89.38 ... 89.38 89.62 89.88\n",
       "  * lon               (lon) float32 -179.9 -179.6 -179.4 ... 179.4 179.6 179.9\n",
       "  * time              (time) datetime64[ns] 2020-12-01T09:00:00 ... 2020-12-3...\n",
       "Data variables:\n",
       "    analysed_sst      (time, lat, lon) float32 ...\n",
       "    analysis_error    (time, lat, lon) float32 ...\n",
       "    mask              (time, lat, lon) float32 ...\n",
       "    sea_ice_fraction  (time, lat, lon) float32 ...\n",
       "    sst_anomaly       (time, lat, lon) float32 ...\n",
       "Attributes: (12/54)\n",
       "    Conventions:                CF-1.7, ACDD-1.3\n",
       "    acknowledgment:             Please acknowledge the use of these data with...\n",
       "    cdm_data_type:              grid\n",
       "    comment:                    MUR = &quot;Multi-scale Ultra-high Resolution&quot;\n",
       "    creator_email:              ghrsst@podaac.jpl.nasa.gov\n",
       "    creator_institution:        Jet Propulsion Laboratory\n",
       "    ...                         ...\n",
       "    time_coverage_end:          20201201T210000Z\n",
       "    time_coverage_resolution:   P1D\n",
       "    time_coverage_start:        20201130T210000Z\n",
       "    title:                      Daily 0.25-degree MUR SST, Final product\n",
       "    uuid:                       27665bc0-d5fc-11e1-9b23-0800200c9a66\n",
       "    westernmost_longitude:      -180.0</pre><div class='xr-wrap' style='display:none'><div class='xr-header'><div class='xr-obj-type'>xarray.Dataset</div></div><ul class='xr-sections'><li class='xr-section-item'><input id='section-d1df1ee5-7d78-44a8-b7d5-971d1e7cd60b' class='xr-section-summary-in' type='checkbox' disabled ><label for='section-d1df1ee5-7d78-44a8-b7d5-971d1e7cd60b' class='xr-section-summary'  title='Expand/collapse section'>Dimensions:</label><div class='xr-section-inline-details'><ul class='xr-dim-list'><li><span class='xr-has-index'>time</span>: 31</li><li><span class='xr-has-index'>lat</span>: 720</li><li><span class='xr-has-index'>lon</span>: 1440</li></ul></div><div class='xr-section-details'></div></li><li class='xr-section-item'><input id='section-13a5005b-1e37-4375-9cd8-d14ebe298dca' class='xr-section-summary-in' type='checkbox'  checked><label for='section-13a5005b-1e37-4375-9cd8-d14ebe298dca' class='xr-section-summary' >Coordinates: <span>(3)</span></label><div class='xr-section-inline-details'></div><div class='xr-section-details'><ul class='xr-var-list'><li class='xr-var-item'><div class='xr-var-name'><span class='xr-has-index'>lat</span></div><div class='xr-var-dims'>(lat)</div><div class='xr-var-dtype'>float32</div><div class='xr-var-preview xr-preview'>-89.88 -89.62 ... 89.62 89.88</div><input id='attrs-ea8791ef-9a91-408e-a2fb-c9913a1b21fe' class='xr-var-attrs-in' type='checkbox' ><label for='attrs-ea8791ef-9a91-408e-a2fb-c9913a1b21fe' title='Show/Hide attributes'><svg class='icon xr-icon-file-text2'><use xlink:href='#icon-file-text2'></use></svg></label><input id='data-4dc3e252-1ce2-4543-b7ab-0b033adbacc0' class='xr-var-data-in' type='checkbox'><label for='data-4dc3e252-1ce2-4543-b7ab-0b033adbacc0' title='Show/Hide data repr'><svg class='icon xr-icon-database'><use xlink:href='#icon-database'></use></svg></label><div class='xr-var-attrs'><dl class='xr-attrs'><dt><span>axis :</span></dt><dd>Y</dd><dt><span>comment :</span></dt><dd>geolocations inherited from the input data without correction</dd><dt><span>coverage_content_type :</span></dt><dd>coordinate</dd><dt><span>long_name :</span></dt><dd>latitude</dd><dt><span>standard_name :</span></dt><dd>latitude</dd><dt><span>units :</span></dt><dd>degrees_north</dd><dt><span>valid_max :</span></dt><dd>90.0</dd><dt><span>valid_min :</span></dt><dd>-90.0</dd></dl></div><div class='xr-var-data'><pre>array([-89.875, -89.625, -89.375, ...,  89.375,  89.625,  89.875],\n",
       "      dtype=float32)</pre></div></li><li class='xr-var-item'><div class='xr-var-name'><span class='xr-has-index'>lon</span></div><div class='xr-var-dims'>(lon)</div><div class='xr-var-dtype'>float32</div><div class='xr-var-preview xr-preview'>-179.9 -179.6 ... 179.6 179.9</div><input id='attrs-91cc40a6-1a5e-4109-8e42-87ed02c998a5' class='xr-var-attrs-in' type='checkbox' ><label for='attrs-91cc40a6-1a5e-4109-8e42-87ed02c998a5' title='Show/Hide attributes'><svg class='icon xr-icon-file-text2'><use xlink:href='#icon-file-text2'></use></svg></label><input id='data-db750d8a-c3b8-4aec-809e-9273070bdf1e' class='xr-var-data-in' type='checkbox'><label for='data-db750d8a-c3b8-4aec-809e-9273070bdf1e' title='Show/Hide data repr'><svg class='icon xr-icon-database'><use xlink:href='#icon-database'></use></svg></label><div class='xr-var-attrs'><dl class='xr-attrs'><dt><span>axis :</span></dt><dd>X</dd><dt><span>comment :</span></dt><dd>geolocations inherited from the input data without correction</dd><dt><span>coverage_content_type :</span></dt><dd>coordinate</dd><dt><span>long_name :</span></dt><dd>longitude</dd><dt><span>standard_name :</span></dt><dd>longitude</dd><dt><span>units :</span></dt><dd>degrees_east</dd><dt><span>valid_max :</span></dt><dd>180.0</dd><dt><span>valid_min :</span></dt><dd>-180.0</dd></dl></div><div class='xr-var-data'><pre>array([-179.875, -179.625, -179.375, ...,  179.375,  179.625,  179.875],\n",
       "      dtype=float32)</pre></div></li><li class='xr-var-item'><div class='xr-var-name'><span class='xr-has-index'>time</span></div><div class='xr-var-dims'>(time)</div><div class='xr-var-dtype'>datetime64[ns]</div><div class='xr-var-preview xr-preview'>2020-12-01T09:00:00 ... 2020-12-...</div><input id='attrs-320ecbea-c86a-410f-9b41-eed902c7454a' class='xr-var-attrs-in' type='checkbox' ><label for='attrs-320ecbea-c86a-410f-9b41-eed902c7454a' title='Show/Hide attributes'><svg class='icon xr-icon-file-text2'><use xlink:href='#icon-file-text2'></use></svg></label><input id='data-1cc622ab-7251-4897-b832-150a399e8c11' class='xr-var-data-in' type='checkbox'><label for='data-1cc622ab-7251-4897-b832-150a399e8c11' title='Show/Hide data repr'><svg class='icon xr-icon-database'><use xlink:href='#icon-database'></use></svg></label><div class='xr-var-attrs'><dl class='xr-attrs'><dt><span>axis :</span></dt><dd>T</dd><dt><span>comment :</span></dt><dd>Nominal time of analyzed fields</dd><dt><span>coverage_content_type :</span></dt><dd>coordinate</dd><dt><span>long_name :</span></dt><dd>reference time of sst field</dd><dt><span>standard_name :</span></dt><dd>time</dd></dl></div><div class='xr-var-data'><pre>array([&#x27;2020-12-01T09:00:00.000000000&#x27;, &#x27;2020-12-02T09:00:00.000000000&#x27;,\n",
       "       &#x27;2020-12-03T09:00:00.000000000&#x27;, &#x27;2020-12-04T09:00:00.000000000&#x27;,\n",
       "       &#x27;2020-12-05T09:00:00.000000000&#x27;, &#x27;2020-12-06T09:00:00.000000000&#x27;,\n",
       "       &#x27;2020-12-07T09:00:00.000000000&#x27;, &#x27;2020-12-08T09:00:00.000000000&#x27;,\n",
       "       &#x27;2020-12-09T09:00:00.000000000&#x27;, &#x27;2020-12-10T09:00:00.000000000&#x27;,\n",
       "       &#x27;2020-12-11T09:00:00.000000000&#x27;, &#x27;2020-12-12T09:00:00.000000000&#x27;,\n",
       "       &#x27;2020-12-13T09:00:00.000000000&#x27;, &#x27;2020-12-14T09:00:00.000000000&#x27;,\n",
       "       &#x27;2020-12-15T09:00:00.000000000&#x27;, &#x27;2020-12-16T09:00:00.000000000&#x27;,\n",
       "       &#x27;2020-12-17T09:00:00.000000000&#x27;, &#x27;2020-12-18T09:00:00.000000000&#x27;,\n",
       "       &#x27;2020-12-19T09:00:00.000000000&#x27;, &#x27;2020-12-20T09:00:00.000000000&#x27;,\n",
       "       &#x27;2020-12-21T09:00:00.000000000&#x27;, &#x27;2020-12-22T09:00:00.000000000&#x27;,\n",
       "       &#x27;2020-12-23T09:00:00.000000000&#x27;, &#x27;2020-12-24T09:00:00.000000000&#x27;,\n",
       "       &#x27;2020-12-25T09:00:00.000000000&#x27;, &#x27;2020-12-26T09:00:00.000000000&#x27;,\n",
       "       &#x27;2020-12-27T09:00:00.000000000&#x27;, &#x27;2020-12-28T09:00:00.000000000&#x27;,\n",
       "       &#x27;2020-12-29T09:00:00.000000000&#x27;, &#x27;2020-12-30T09:00:00.000000000&#x27;,\n",
       "       &#x27;2020-12-31T09:00:00.000000000&#x27;], dtype=&#x27;datetime64[ns]&#x27;)</pre></div></li></ul></div></li><li class='xr-section-item'><input id='section-6da73d54-f7b0-42b7-b825-f4668cf8903e' class='xr-section-summary-in' type='checkbox'  checked><label for='section-6da73d54-f7b0-42b7-b825-f4668cf8903e' class='xr-section-summary' >Data variables: <span>(5)</span></label><div class='xr-section-inline-details'></div><div class='xr-section-details'><ul class='xr-var-list'><li class='xr-var-item'><div class='xr-var-name'><span>analysed_sst</span></div><div class='xr-var-dims'>(time, lat, lon)</div><div class='xr-var-dtype'>float32</div><div class='xr-var-preview xr-preview'>...</div><input id='attrs-128d33e5-ba02-4750-ad0a-884942720820' class='xr-var-attrs-in' type='checkbox' ><label for='attrs-128d33e5-ba02-4750-ad0a-884942720820' title='Show/Hide attributes'><svg class='icon xr-icon-file-text2'><use xlink:href='#icon-file-text2'></use></svg></label><input id='data-26a04458-9c71-4ee3-8d68-0b7f987c235f' class='xr-var-data-in' type='checkbox'><label for='data-26a04458-9c71-4ee3-8d68-0b7f987c235f' title='Show/Hide data repr'><svg class='icon xr-icon-database'><use xlink:href='#icon-database'></use></svg></label><div class='xr-var-attrs'><dl class='xr-attrs'><dt><span>comment :</span></dt><dd>&quot;Final&quot; version using Multi-Resolution Variational Analysis (MRVA) method for interpolation</dd><dt><span>coverage_content_type :</span></dt><dd>physicalMeasurement</dd><dt><span>long_name :</span></dt><dd>analysed sea surface temperature</dd><dt><span>source :</span></dt><dd>MODIS_T-JPL, MODIS_A-JPL, AMSR2-REMSS, AVHRRMTA_G-NAVO, AVHRRMTB_G-NAVO, iQUAM-NOAA/NESDIS, Ice_Conc-OSISAF</dd><dt><span>standard_name :</span></dt><dd>sea_surface_foundation_temperature</dd><dt><span>units :</span></dt><dd>kelvin</dd><dt><span>valid_max :</span></dt><dd>32767</dd><dt><span>valid_min :</span></dt><dd>-32767</dd></dl></div><div class='xr-var-data'><pre>[32140800 values with dtype=float32]</pre></div></li><li class='xr-var-item'><div class='xr-var-name'><span>analysis_error</span></div><div class='xr-var-dims'>(time, lat, lon)</div><div class='xr-var-dtype'>float32</div><div class='xr-var-preview xr-preview'>...</div><input id='attrs-040f0d45-5c98-4fbb-a247-3fa8ca447d42' class='xr-var-attrs-in' type='checkbox' ><label for='attrs-040f0d45-5c98-4fbb-a247-3fa8ca447d42' title='Show/Hide attributes'><svg class='icon xr-icon-file-text2'><use xlink:href='#icon-file-text2'></use></svg></label><input id='data-85671890-53c8-4634-98f0-7fbbb57fbf09' class='xr-var-data-in' type='checkbox'><label for='data-85671890-53c8-4634-98f0-7fbbb57fbf09' title='Show/Hide data repr'><svg class='icon xr-icon-database'><use xlink:href='#icon-database'></use></svg></label><div class='xr-var-attrs'><dl class='xr-attrs'><dt><span>comment :</span></dt><dd>uncertainty in &quot;analysed_sst&quot;</dd><dt><span>coverage_content_type :</span></dt><dd>qualityInformation</dd><dt><span>long_name :</span></dt><dd>estimated error standard deviation of analysed_sst</dd><dt><span>units :</span></dt><dd>kelvin</dd><dt><span>valid_max :</span></dt><dd>32767</dd><dt><span>valid_min :</span></dt><dd>0</dd></dl></div><div class='xr-var-data'><pre>[32140800 values with dtype=float32]</pre></div></li><li class='xr-var-item'><div class='xr-var-name'><span>mask</span></div><div class='xr-var-dims'>(time, lat, lon)</div><div class='xr-var-dtype'>float32</div><div class='xr-var-preview xr-preview'>...</div><input id='attrs-026c0911-a5c5-4eb9-b2de-05b844cbae47' class='xr-var-attrs-in' type='checkbox' ><label for='attrs-026c0911-a5c5-4eb9-b2de-05b844cbae47' title='Show/Hide attributes'><svg class='icon xr-icon-file-text2'><use xlink:href='#icon-file-text2'></use></svg></label><input id='data-685de039-d833-41de-9684-9963da5f15fa' class='xr-var-data-in' type='checkbox'><label for='data-685de039-d833-41de-9684-9963da5f15fa' title='Show/Hide data repr'><svg class='icon xr-icon-database'><use xlink:href='#icon-database'></use></svg></label><div class='xr-var-attrs'><dl class='xr-attrs'><dt><span>comment :</span></dt><dd>flag interpretation as integer values:  1=water, 2=land, 5=lake, 9=water with ice in the grid, 13=lake with ice in the grid, 17=river</dd><dt><span>coverage_content_type :</span></dt><dd>referenceInformation</dd><dt><span>flag_masks :</span></dt><dd>[1, 2, 4, 8, 16]</dd><dt><span>flag_meanings :</span></dt><dd>water land optional_lake_surface sea_ice optional_river_surface</dd><dt><span>long_name :</span></dt><dd>sea/land field composite mask</dd><dt><span>source :</span></dt><dd>GMT &quot;grdlandmask&quot;, ice flag from sea_ice_fraction data</dd><dt><span>valid_max :</span></dt><dd>31</dd><dt><span>valid_min :</span></dt><dd>1</dd></dl></div><div class='xr-var-data'><pre>[32140800 values with dtype=float32]</pre></div></li><li class='xr-var-item'><div class='xr-var-name'><span>sea_ice_fraction</span></div><div class='xr-var-dims'>(time, lat, lon)</div><div class='xr-var-dtype'>float32</div><div class='xr-var-preview xr-preview'>...</div><input id='attrs-049d23f0-4002-47fd-b64e-86ff1e51efa1' class='xr-var-attrs-in' type='checkbox' ><label for='attrs-049d23f0-4002-47fd-b64e-86ff1e51efa1' title='Show/Hide attributes'><svg class='icon xr-icon-file-text2'><use xlink:href='#icon-file-text2'></use></svg></label><input id='data-e693ffb5-c183-472d-a00c-9f80af337ceb' class='xr-var-data-in' type='checkbox'><label for='data-e693ffb5-c183-472d-a00c-9f80af337ceb' title='Show/Hide data repr'><svg class='icon xr-icon-database'><use xlink:href='#icon-database'></use></svg></label><div class='xr-var-attrs'><dl class='xr-attrs'><dt><span>comment :</span></dt><dd>ice fraction is a dimensionless quantity between 0 and 1; it has been interpolated by a nearest neighbor approach.</dd><dt><span>coverage_content_type :</span></dt><dd>auxiliaryInformation</dd><dt><span>long_name :</span></dt><dd>sea ice area fraction</dd><dt><span>source :</span></dt><dd>EUMETSAT OSI-SAF, copyright EUMETSAT</dd><dt><span>standard_name :</span></dt><dd>sea_ice_area_fraction</dd><dt><span>valid_max :</span></dt><dd>100</dd><dt><span>valid_min :</span></dt><dd>0</dd></dl></div><div class='xr-var-data'><pre>[32140800 values with dtype=float32]</pre></div></li><li class='xr-var-item'><div class='xr-var-name'><span>sst_anomaly</span></div><div class='xr-var-dims'>(time, lat, lon)</div><div class='xr-var-dtype'>float32</div><div class='xr-var-preview xr-preview'>...</div><input id='attrs-549915c9-af92-4aee-9813-2ffa98034dbe' class='xr-var-attrs-in' type='checkbox' ><label for='attrs-549915c9-af92-4aee-9813-2ffa98034dbe' title='Show/Hide attributes'><svg class='icon xr-icon-file-text2'><use xlink:href='#icon-file-text2'></use></svg></label><input id='data-384e4682-1589-4ad9-b181-e551b18067b1' class='xr-var-data-in' type='checkbox'><label for='data-384e4682-1589-4ad9-b181-e551b18067b1' title='Show/Hide data repr'><svg class='icon xr-icon-database'><use xlink:href='#icon-database'></use></svg></label><div class='xr-var-attrs'><dl class='xr-attrs'><dt><span>comment :</span></dt><dd>anomaly reference to the day-of-year average between 2003 and 2014</dd><dt><span>coverage_content_type :</span></dt><dd>auxiliaryInformation</dd><dt><span>long_name :</span></dt><dd>SST anomaly from a seasonal SST climatology based on the MUR data over 2003-2014 period</dd><dt><span>units :</span></dt><dd>kelvin</dd><dt><span>valid_max :</span></dt><dd>32767</dd><dt><span>valid_min :</span></dt><dd>-32767</dd></dl></div><div class='xr-var-data'><pre>[32140800 values with dtype=float32]</pre></div></li></ul></div></li><li class='xr-section-item'><input id='section-cbb96e4d-e64e-4aed-8906-3e8e4c060976' class='xr-section-summary-in' type='checkbox'  ><label for='section-cbb96e4d-e64e-4aed-8906-3e8e4c060976' class='xr-section-summary' >Attributes: <span>(54)</span></label><div class='xr-section-inline-details'></div><div class='xr-section-details'><dl class='xr-attrs'><dt><span>Conventions :</span></dt><dd>CF-1.7, ACDD-1.3</dd><dt><span>acknowledgment :</span></dt><dd>Please acknowledge the use of these data with the following statement:  These data were provided by JPL under support by NASA MEaSUREs and COVERAGE programs.</dd><dt><span>cdm_data_type :</span></dt><dd>grid</dd><dt><span>comment :</span></dt><dd>MUR = &quot;Multi-scale Ultra-high Resolution&quot;</dd><dt><span>creator_email :</span></dt><dd>ghrsst@podaac.jpl.nasa.gov</dd><dt><span>creator_institution :</span></dt><dd>Jet Propulsion Laboratory</dd><dt><span>creator_name :</span></dt><dd>JPL MUR SST project</dd><dt><span>creator_url :</span></dt><dd>http://mur.jpl.nasa.gov</dd><dt><span>date_created :</span></dt><dd>2020-12-10</dd><dt><span>easternmost_longitude :</span></dt><dd>180.0</dd><dt><span>file_quality_level :</span></dt><dd>3</dd><dt><span>gds_version_id :</span></dt><dd>2.0</dd><dt><span>geospatial_lat_max :</span></dt><dd>90.0</dd><dt><span>geospatial_lat_min :</span></dt><dd>-90.0</dd><dt><span>geospatial_lat_resolution :</span></dt><dd>0.25</dd><dt><span>geospatial_lat_units :</span></dt><dd>degrees north</dd><dt><span>geospatial_lon_max :</span></dt><dd>180.0</dd><dt><span>geospatial_lon_min :</span></dt><dd>-180.0</dd><dt><span>geospatial_lon_resolution :</span></dt><dd>0.25</dd><dt><span>geospatial_lon_units :</span></dt><dd>degrees east</dd><dt><span>history :</span></dt><dd>created at nominal 4-day latency; replaced nrt (1-day latency) version.</dd><dt><span>id :</span></dt><dd>MUR25-JPL-L4-GLOB-v04.2</dd><dt><span>institution :</span></dt><dd>Jet Propulsion Laboratory</dd><dt><span>instrument :</span></dt><dd>MODIS, AMSR2, AVHRR, in-situ</dd><dt><span>keywords :</span></dt><dd>Oceans &gt; Ocean Temperature &gt; Sea Surface Temperature</dd><dt><span>keywords_vocabulary :</span></dt><dd>NASA Global Change Master Directory (GCMD) Science Keywords</dd><dt><span>license :</span></dt><dd>These data are available free of charge under data policy of JPL PO.DAAC.</dd><dt><span>metadata_link :</span></dt><dd>http://podaac.jpl.nasa.gov/ws/metadata/dataset/?format=iso&amp;shortName=MUR25-JPL-L4-GLOB-v04.2</dd><dt><span>naming_authority :</span></dt><dd>org.ghrsst</dd><dt><span>netcdf_version_id :</span></dt><dd>04.2</dd><dt><span>northernmost_latitude :</span></dt><dd>90.0</dd><dt><span>platform :</span></dt><dd>Terra, Aqua, GCOM-W, MetOp-A, MetOp-B, Buoys/Ships</dd><dt><span>processing_level :</span></dt><dd>L4</dd><dt><span>product_version :</span></dt><dd>04.2</dd><dt><span>program :</span></dt><dd>NASA Earth Science Data and Information System (ESDIS)</dd><dt><span>project :</span></dt><dd>NASA MEaSUREs and COVERAGE</dd><dt><span>publisher_email :</span></dt><dd>gpc@ghrsst.org</dd><dt><span>publisher_name :</span></dt><dd>GHRSST Project Office</dd><dt><span>publisher_url :</span></dt><dd>https://www.ghrsst.org</dd><dt><span>references :</span></dt><dd>Chin et al. (2017) &quot;Remote Sensing of Environment&quot;, volulme 200, pages 154-169.  http://dx.doi.org/10.1016/j.rse.2017.07.029</dd><dt><span>sensor :</span></dt><dd>MODIS, AMSR2, AVHRR, in-situ</dd><dt><span>source :</span></dt><dd>MODIS_T-JPL, MODIS_A-JPL, AMSR2-REMSS, AVHRRMTA_G-NAVO, AVHRRMTB_G-NAVO, iQUAM-NOAA/NESDIS, Ice_Conc-OSISAF</dd><dt><span>southernmost_latitude :</span></dt><dd>-90.0</dd><dt><span>spatial_resolution :</span></dt><dd>0.25 degrees</dd><dt><span>standard_name_vocabulary :</span></dt><dd>NetCDF Climate and Forecast (CF) Metadata Convention</dd><dt><span>start_time :</span></dt><dd>20201201T090000Z</dd><dt><span>stop_time :</span></dt><dd>20201201T090000Z</dd><dt><span>summary :</span></dt><dd>A low-resolution version of the MUR SST analysis, a merged, multi-sensor L4 Foundation SST analysis product from JPL.</dd><dt><span>time_coverage_end :</span></dt><dd>20201201T210000Z</dd><dt><span>time_coverage_resolution :</span></dt><dd>P1D</dd><dt><span>time_coverage_start :</span></dt><dd>20201130T210000Z</dd><dt><span>title :</span></dt><dd>Daily 0.25-degree MUR SST, Final product</dd><dt><span>uuid :</span></dt><dd>27665bc0-d5fc-11e1-9b23-0800200c9a66</dd><dt><span>westernmost_longitude :</span></dt><dd>-180.0</dd></dl></div></li></ul></div></div>"
      ],
      "text/plain": [
       "<xarray.Dataset>\n",
       "Dimensions:           (time: 31, lat: 720, lon: 1440)\n",
       "Coordinates:\n",
       "  * lat               (lat) float32 -89.88 -89.62 -89.38 ... 89.38 89.62 89.88\n",
       "  * lon               (lon) float32 -179.9 -179.6 -179.4 ... 179.4 179.6 179.9\n",
       "  * time              (time) datetime64[ns] 2020-12-01T09:00:00 ... 2020-12-3...\n",
       "Data variables:\n",
       "    analysed_sst      (time, lat, lon) float32 ...\n",
       "    analysis_error    (time, lat, lon) float32 ...\n",
       "    mask              (time, lat, lon) float32 ...\n",
       "    sea_ice_fraction  (time, lat, lon) float32 ...\n",
       "    sst_anomaly       (time, lat, lon) float32 ...\n",
       "Attributes: (12/54)\n",
       "    Conventions:                CF-1.7, ACDD-1.3\n",
       "    acknowledgment:             Please acknowledge the use of these data with...\n",
       "    cdm_data_type:              grid\n",
       "    comment:                    MUR = \"Multi-scale Ultra-high Resolution\"\n",
       "    creator_email:              ghrsst@podaac.jpl.nasa.gov\n",
       "    creator_institution:        Jet Propulsion Laboratory\n",
       "    ...                         ...\n",
       "    time_coverage_end:          20201201T210000Z\n",
       "    time_coverage_resolution:   P1D\n",
       "    time_coverage_start:        20201130T210000Z\n",
       "    title:                      Daily 0.25-degree MUR SST, Final product\n",
       "    uuid:                       27665bc0-d5fc-11e1-9b23-0800200c9a66\n",
       "    westernmost_longitude:      -180.0"
      ]
     },
     "execution_count": 21,
     "metadata": {},
     "output_type": "execute_result"
    }
   ],
   "source": [
    "ds"
   ]
  },
  {
   "cell_type": "code",
   "execution_count": 23,
   "metadata": {},
   "outputs": [
    {
     "data": {
      "text/plain": [
       "[<matplotlib.lines.Line2D at 0x7f951a09fdc0>]"
      ]
     },
     "execution_count": 23,
     "metadata": {},
     "output_type": "execute_result"
    },
    {
     "data": {
      "image/png": "[encoded data removed]",
      "text/plain": [
       "<Figure size 720x720 with 1 Axes>"
      ]
     },
     "metadata": {
      "needs_background": "light"
     },
     "output_type": "display_data"
    }
   ],
   "source": [
    "# Do some plotting\n",
    "import matplotlib.pyplot as plt\n",
    "\n",
    "fig = plt.figure(figsize=(10,10))\n",
    "ds.analysed_sst.isel(lon=10, lat=360).plot.line(x=\"time\")"
   ]
  },
  {
   "cell_type": "code",
   "execution_count": null,
   "metadata": {},
   "outputs": [],
   "source": []
  },
  {
   "cell_type": "code",
   "execution_count": null,
   "metadata": {},
   "outputs": [],
   "source": []
  }
 ],
 "metadata": {
  "interpreter": {
   "hash": "d853cbf2f35f45a59f79ca5e397d8dd1594080251b0b51418fe33f5fb0138a7a"
  },
  "kernelspec": {
   "display_name": "Python 3 (ipykernel)",
   "language": "python",
   "name": "python3"
  },
  "language_info": {
   "codemirror_mode": {
    "name": "ipython",
    "version": 3
   },
   "file_extension": ".py",
   "mimetype": "text/x-python",
   "name": "python",
   "nbconvert_exporter": "python",
   "pygments_lexer": "ipython3",
   "version": "3.9.13"
  }
 },
 "nbformat": 4,
 "nbformat_minor": 4
}
